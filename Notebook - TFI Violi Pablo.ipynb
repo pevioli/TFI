{
 "cells": [
  {
   "cell_type": "markdown",
   "metadata": {},
   "source": [
    "Importo librerias necesarias para el proyecto"
   ]
  },
  {
   "cell_type": "code",
   "execution_count": 2,
   "metadata": {},
   "outputs": [],
   "source": [
    "import pandas as pd\n",
    "import numpy as np\n",
    "import seaborn as sns\n",
    "import matplotlib.pyplot as plt\n",
    "%matplotlib inline\n",
    "from sklearn.model_selection import train_test_split, StratifiedKFold, GridSearchCV\n",
    "from sklearn.pipeline import make_pipeline, make_union, Pipeline\n",
    "from sklearn.preprocessing import StandardScaler\n",
    "from sklearn.impute import SimpleImputer\n",
    "from sklearn.base import BaseEstimator, TransformerMixin\n",
    "from sklearn.linear_model import LogisticRegression\n",
    "from sklearn.metrics import classification_report\n",
    "from sklearn.metrics import accuracy_score\n",
    "from sklearn.naive_bayes import GaussianNB\n",
    "from sklearn.neighbors import KNeighborsClassifier\n",
    "from sklearn.metrics import confusion_matrix\n",
    "import lightgbm as lgb\n",
    "from xgboost.sklearn import XGBClassifier\n",
    "from scipy.stats import randint as sp_randint\n",
    "from scipy.stats import uniform as sp_uniform\n",
    "from sklearn.model_selection import RandomizedSearchCV"
   ]
  },
  {
   "cell_type": "markdown",
   "metadata": {},
   "source": [
    "Importo y veo Dataset"
   ]
  },
  {
   "cell_type": "code",
   "execution_count": 3,
   "metadata": {},
   "outputs": [
    {
     "name": "stderr",
     "output_type": "stream",
     "text": [
      "C:\\Users\\Pablo\\anaconda3\\envs\\dhdsblend\\lib\\site-packages\\IPython\\core\\interactiveshell.py:3146: DtypeWarning: Columns (6,7,8,9,10,11,12,13,14,15,16,17,18,19,20,21,22,23,24,25,26,27,28,29,30,31,32,33,34,35,36,37,38,39,40,41,42,43,44,45,46,47,48,49,50,51,52,53,54,55,56,57,58,59,60,61,62,63,64,65,66,67,68,69,70,71,72,73,74,75,76,77,78,79,80,81,82,83,84,85,86,87,88,89,90,91,92,93,94,95,96,97,98,99,100,101,102,103,104,105,106,107,108,109,110,111,112,113,114,115,116,117,118,119,120,121,122,123,124,125,126,127,128,129,130,131,132,133,134,135,136,137,138,139,140,141,142,143,144,145,146,147,148,149,150,151,152,153,154,155,156,157,158,159,160,161,162,163,164,165,166,167,168,169,170,171,172,173,174,175,176,177,178,179,180,181,182,183,184,185,186,187,188,189,190,191,192,193,194,195,196,197,198,199,200,201,202,203,204,205,206,207,208,209,210,211,212,213,214,215,216,217,218,219,220,221,222,223,224,225,226,227,235,242,243,253,254,255,256,257) have mixed types.Specify dtype option on import or set low_memory=False.\n",
      "  interactivity=interactivity, compiler=compiler, result=result)\n"
     ]
    },
    {
     "data": {
      "text/html": [
       "<div>\n",
       "<style scoped>\n",
       "    .dataframe tbody tr th:only-of-type {\n",
       "        vertical-align: middle;\n",
       "    }\n",
       "\n",
       "    .dataframe tbody tr th {\n",
       "        vertical-align: top;\n",
       "    }\n",
       "\n",
       "    .dataframe thead th {\n",
       "        text-align: right;\n",
       "    }\n",
       "</style>\n",
       "<table border=\"1\" class=\"dataframe\">\n",
       "  <thead>\n",
       "    <tr style=\"text-align: right;\">\n",
       "      <th></th>\n",
       "      <th>ID1</th>\n",
       "      <th>cod_provincia</th>\n",
       "      <th>sector</th>\n",
       "      <th>ambito</th>\n",
       "      <th>claveseccion</th>\n",
       "      <th>idalumno</th>\n",
       "      <th>ap01_01</th>\n",
       "      <th>ap01_02</th>\n",
       "      <th>ap02</th>\n",
       "      <th>ap03</th>\n",
       "      <th>...</th>\n",
       "      <th>trabaja_fuera_hogar_remunerado</th>\n",
       "      <th>migración</th>\n",
       "      <th>edadA_junio2019</th>\n",
       "      <th>sobreedad</th>\n",
       "      <th>infraestructura</th>\n",
       "      <th>iinfraestructura</th>\n",
       "      <th>ap42_01rec</th>\n",
       "      <th>ap42_02rec</th>\n",
       "      <th>ap42_03rec</th>\n",
       "      <th>ap42_04rec</th>\n",
       "    </tr>\n",
       "  </thead>\n",
       "  <tbody>\n",
       "    <tr>\n",
       "      <th>0</th>\n",
       "      <td>120003000120003</td>\n",
       "      <td>2</td>\n",
       "      <td>2</td>\n",
       "      <td>1</td>\n",
       "      <td>02SF00003</td>\n",
       "      <td>3</td>\n",
       "      <td>10</td>\n",
       "      <td>4</td>\n",
       "      <td>1</td>\n",
       "      <td>1</td>\n",
       "      <td>...</td>\n",
       "      <td>3</td>\n",
       "      <td>2</td>\n",
       "      <td>17</td>\n",
       "      <td>1</td>\n",
       "      <td>,218644881556733</td>\n",
       "      <td>2.0</td>\n",
       "      <td>2</td>\n",
       "      <td>2</td>\n",
       "      <td>2</td>\n",
       "      <td>2</td>\n",
       "    </tr>\n",
       "    <tr>\n",
       "      <th>1</th>\n",
       "      <td>120003000120003</td>\n",
       "      <td>2</td>\n",
       "      <td>2</td>\n",
       "      <td>1</td>\n",
       "      <td>02SF00003</td>\n",
       "      <td>25</td>\n",
       "      <td>7</td>\n",
       "      <td>4</td>\n",
       "      <td>2</td>\n",
       "      <td>1</td>\n",
       "      <td>...</td>\n",
       "      <td>3</td>\n",
       "      <td>2</td>\n",
       "      <td>17</td>\n",
       "      <td>1</td>\n",
       "      <td>,218644881556733</td>\n",
       "      <td>2.0</td>\n",
       "      <td>2</td>\n",
       "      <td>2</td>\n",
       "      <td>2</td>\n",
       "      <td>2</td>\n",
       "    </tr>\n",
       "    <tr>\n",
       "      <th>2</th>\n",
       "      <td>120003000120003</td>\n",
       "      <td>2</td>\n",
       "      <td>2</td>\n",
       "      <td>1</td>\n",
       "      <td>02SF00002</td>\n",
       "      <td>27</td>\n",
       "      <td>3</td>\n",
       "      <td>5</td>\n",
       "      <td>1</td>\n",
       "      <td>1</td>\n",
       "      <td>...</td>\n",
       "      <td>3</td>\n",
       "      <td>2</td>\n",
       "      <td>17</td>\n",
       "      <td>1</td>\n",
       "      <td>,218644881556733</td>\n",
       "      <td>2.0</td>\n",
       "      <td>2</td>\n",
       "      <td>2</td>\n",
       "      <td>2</td>\n",
       "      <td>2</td>\n",
       "    </tr>\n",
       "    <tr>\n",
       "      <th>3</th>\n",
       "      <td>120003000120003</td>\n",
       "      <td>2</td>\n",
       "      <td>2</td>\n",
       "      <td>1</td>\n",
       "      <td>02SF00002</td>\n",
       "      <td>3</td>\n",
       "      <td>11</td>\n",
       "      <td>4</td>\n",
       "      <td>2</td>\n",
       "      <td>1</td>\n",
       "      <td>...</td>\n",
       "      <td>3</td>\n",
       "      <td>2</td>\n",
       "      <td>17</td>\n",
       "      <td>1</td>\n",
       "      <td>,218644881556733</td>\n",
       "      <td>2.0</td>\n",
       "      <td>2</td>\n",
       "      <td>2</td>\n",
       "      <td>1</td>\n",
       "      <td>1</td>\n",
       "    </tr>\n",
       "    <tr>\n",
       "      <th>4</th>\n",
       "      <td>120003000120003</td>\n",
       "      <td>2</td>\n",
       "      <td>2</td>\n",
       "      <td>1</td>\n",
       "      <td>02SF00003</td>\n",
       "      <td>5</td>\n",
       "      <td>11</td>\n",
       "      <td>4</td>\n",
       "      <td>2</td>\n",
       "      <td>1</td>\n",
       "      <td>...</td>\n",
       "      <td>3</td>\n",
       "      <td>2</td>\n",
       "      <td>17</td>\n",
       "      <td>1</td>\n",
       "      <td>,218644881556733</td>\n",
       "      <td>2.0</td>\n",
       "      <td>2</td>\n",
       "      <td>2</td>\n",
       "      <td>2</td>\n",
       "      <td>2</td>\n",
       "    </tr>\n",
       "  </tbody>\n",
       "</table>\n",
       "<p>5 rows × 264 columns</p>\n",
       "</div>"
      ],
      "text/plain": [
       "               ID1  cod_provincia  sector  ambito claveseccion  idalumno  \\\n",
       "0  120003000120003              2       2       1    02SF00003         3   \n",
       "1  120003000120003              2       2       1    02SF00003        25   \n",
       "2  120003000120003              2       2       1    02SF00002        27   \n",
       "3  120003000120003              2       2       1    02SF00002         3   \n",
       "4  120003000120003              2       2       1    02SF00003         5   \n",
       "\n",
       "  ap01_01 ap01_02 ap02 ap03  ... trabaja_fuera_hogar_remunerado migración  \\\n",
       "0      10       4    1    1  ...                              3         2   \n",
       "1       7       4    2    1  ...                              3         2   \n",
       "2       3       5    1    1  ...                              3         2   \n",
       "3      11       4    2    1  ...                              3         2   \n",
       "4      11       4    2    1  ...                              3         2   \n",
       "\n",
       "  edadA_junio2019 sobreedad   infraestructura iinfraestructura ap42_01rec  \\\n",
       "0              17         1  ,218644881556733              2.0          2   \n",
       "1              17         1  ,218644881556733              2.0          2   \n",
       "2              17         1  ,218644881556733              2.0          2   \n",
       "3              17         1  ,218644881556733              2.0          2   \n",
       "4              17         1  ,218644881556733              2.0          2   \n",
       "\n",
       "  ap42_02rec ap42_03rec ap42_04rec  \n",
       "0          2          2          2  \n",
       "1          2          2          2  \n",
       "2          2          2          2  \n",
       "3          2          1          1  \n",
       "4          2          2          2  \n",
       "\n",
       "[5 rows x 264 columns]"
      ]
     },
     "execution_count": 3,
     "metadata": {},
     "output_type": "execute_result"
    }
   ],
   "source": [
    "data = pd.read_csv('../data/base.csv',sep = \";\",na_values=['-1','-2','-3','-4','-5','-6','-7','-8','-10'],skip_blank_lines=True)\n",
    "data.head(5)"
   ]
  },
  {
   "cell_type": "markdown",
   "metadata": {},
   "source": [
    "Inspecciono Dataset, veo tamaño y atributos"
   ]
  },
  {
   "cell_type": "code",
   "execution_count": 4,
   "metadata": {},
   "outputs": [
    {
     "name": "stdout",
     "output_type": "stream",
     "text": [
      "Data Shape: (343750, 264)\n"
     ]
    },
    {
     "data": {
      "text/html": [
       "<div>\n",
       "<style scoped>\n",
       "    .dataframe tbody tr th:only-of-type {\n",
       "        vertical-align: middle;\n",
       "    }\n",
       "\n",
       "    .dataframe tbody tr th {\n",
       "        vertical-align: top;\n",
       "    }\n",
       "\n",
       "    .dataframe thead th {\n",
       "        text-align: right;\n",
       "    }\n",
       "</style>\n",
       "<table border=\"1\" class=\"dataframe\">\n",
       "  <thead>\n",
       "    <tr style=\"text-align: right;\">\n",
       "      <th></th>\n",
       "      <th>ID1</th>\n",
       "      <th>cod_provincia</th>\n",
       "      <th>sector</th>\n",
       "      <th>ambito</th>\n",
       "      <th>idalumno</th>\n",
       "      <th>isocioa</th>\n",
       "      <th>iinfraestructura</th>\n",
       "    </tr>\n",
       "  </thead>\n",
       "  <tbody>\n",
       "    <tr>\n",
       "      <th>count</th>\n",
       "      <td>3.437500e+05</td>\n",
       "      <td>343750.000000</td>\n",
       "      <td>343750.000000</td>\n",
       "      <td>343750.000000</td>\n",
       "      <td>343750.000000</td>\n",
       "      <td>323812.000000</td>\n",
       "      <td>281418.000000</td>\n",
       "    </tr>\n",
       "    <tr>\n",
       "      <th>mean</th>\n",
       "      <td>4.177331e+14</td>\n",
       "      <td>31.479959</td>\n",
       "      <td>1.382345</td>\n",
       "      <td>1.087953</td>\n",
       "      <td>51.739991</td>\n",
       "      <td>2.035382</td>\n",
       "      <td>-0.719663</td>\n",
       "    </tr>\n",
       "    <tr>\n",
       "      <th>std</th>\n",
       "      <td>2.413496e+14</td>\n",
       "      <td>30.151272</td>\n",
       "      <td>0.485961</td>\n",
       "      <td>0.283228</td>\n",
       "      <td>195.380806</td>\n",
       "      <td>0.606623</td>\n",
       "      <td>16.539593</td>\n",
       "    </tr>\n",
       "    <tr>\n",
       "      <th>min</th>\n",
       "      <td>3.600800e+13</td>\n",
       "      <td>2.000000</td>\n",
       "      <td>1.000000</td>\n",
       "      <td>1.000000</td>\n",
       "      <td>1.000000</td>\n",
       "      <td>1.000000</td>\n",
       "      <td>-99.000000</td>\n",
       "    </tr>\n",
       "    <tr>\n",
       "      <th>25%</th>\n",
       "      <td>2.086500e+14</td>\n",
       "      <td>6.000000</td>\n",
       "      <td>1.000000</td>\n",
       "      <td>1.000000</td>\n",
       "      <td>5.000000</td>\n",
       "      <td>2.000000</td>\n",
       "      <td>2.000000</td>\n",
       "    </tr>\n",
       "    <tr>\n",
       "      <th>50%</th>\n",
       "      <td>3.621002e+14</td>\n",
       "      <td>14.000000</td>\n",
       "      <td>1.000000</td>\n",
       "      <td>1.000000</td>\n",
       "      <td>10.000000</td>\n",
       "      <td>2.000000</td>\n",
       "      <td>2.000000</td>\n",
       "    </tr>\n",
       "    <tr>\n",
       "      <th>75%</th>\n",
       "      <td>5.960001e+14</td>\n",
       "      <td>54.000000</td>\n",
       "      <td>2.000000</td>\n",
       "      <td>1.000000</td>\n",
       "      <td>17.000000</td>\n",
       "      <td>2.000000</td>\n",
       "      <td>2.000000</td>\n",
       "    </tr>\n",
       "    <tr>\n",
       "      <th>max</th>\n",
       "      <td>1.000000e+15</td>\n",
       "      <td>94.000000</td>\n",
       "      <td>2.000000</td>\n",
       "      <td>2.000000</td>\n",
       "      <td>999.000000</td>\n",
       "      <td>3.000000</td>\n",
       "      <td>3.000000</td>\n",
       "    </tr>\n",
       "  </tbody>\n",
       "</table>\n",
       "</div>"
      ],
      "text/plain": [
       "                ID1  cod_provincia         sector         ambito  \\\n",
       "count  3.437500e+05  343750.000000  343750.000000  343750.000000   \n",
       "mean   4.177331e+14      31.479959       1.382345       1.087953   \n",
       "std    2.413496e+14      30.151272       0.485961       0.283228   \n",
       "min    3.600800e+13       2.000000       1.000000       1.000000   \n",
       "25%    2.086500e+14       6.000000       1.000000       1.000000   \n",
       "50%    3.621002e+14      14.000000       1.000000       1.000000   \n",
       "75%    5.960001e+14      54.000000       2.000000       1.000000   \n",
       "max    1.000000e+15      94.000000       2.000000       2.000000   \n",
       "\n",
       "            idalumno        isocioa  iinfraestructura  \n",
       "count  343750.000000  323812.000000     281418.000000  \n",
       "mean       51.739991       2.035382         -0.719663  \n",
       "std       195.380806       0.606623         16.539593  \n",
       "min         1.000000       1.000000        -99.000000  \n",
       "25%         5.000000       2.000000          2.000000  \n",
       "50%        10.000000       2.000000          2.000000  \n",
       "75%        17.000000       2.000000          2.000000  \n",
       "max       999.000000       3.000000          3.000000  "
      ]
     },
     "metadata": {},
     "output_type": "display_data"
    },
    {
     "name": "stdout",
     "output_type": "stream",
     "text": [
      "<class 'pandas.core.frame.DataFrame'>\n",
      "RangeIndex: 343750 entries, 0 to 343749\n",
      "Columns: 264 entries, ID1 to ap42_04rec\n",
      "dtypes: float64(2), int64(5), object(257)\n",
      "memory usage: 692.4+ MB\n"
     ]
    },
    {
     "data": {
      "text/plain": [
       "None"
      ]
     },
     "metadata": {},
     "output_type": "display_data"
    }
   ],
   "source": [
    "#print data properties\n",
    "print('Data Shape: {}'.format(data.shape))\n",
    "display(data.describe())\n",
    "display(data.info())"
   ]
  },
  {
   "cell_type": "markdown",
   "metadata": {},
   "source": [
    "Dropeo Variables que no nos interesan para el proyecto"
   ]
  },
  {
   "cell_type": "code",
   "execution_count": 5,
   "metadata": {},
   "outputs": [],
   "source": [
    "columns_drop = ['modelo','ponder','lpondera','mpondera','ap33_04bis','ap33_06bis','TEL','TEM','isocioa_puntaje','isocioal_puntaje','isocioam_puntaje','claveseccion','idalumno','ap01_01','ap10','ap11_01','ap11_02','ap11_03','ap11_04','ap11_05','ap11_06','ap11_07','ap12','ap13','ap14_01','ap15','ap18_01','ap18_02','ap18_03','ap19','ap22','ap27_a','ap27_b','ap27_c','ap27_d','ap27_e','ap27_f','ap28_02','ap28_03','ap28_04','ap29_01.dico','ap29_02','ap29_02.dico','ap29_03','ap29_03.dico','ap29_04','ap29_04.dico','ap29_05','ap29_05.dico','ap29_06','ap29_06.dico','ap29_07','ap29_07.dico','ap30','ap31_01','ap31_02','ap31_03','ap31_04','ap31_05','ap31_06','ap32_a','ap32_b','ap32_c','ap32_d','ap32_f','ap33_01bis','ap33_02_a','ap33_02_b','ap33_02bis','ap33_03_a','ap33_03_b','ap33_03bis','ap33_04_a','ap33_04_b','ap33_05bis','ap33_07bis','ap33_08bis','ap33_09bis','ap33_10bis','ap33_11bis','ap35_01','ap35_02','ap35_04','ap35_05','ap36_a','ap36_b','ap36_c','ap36_d','ap36_e','ap36_f','ap37_a','ap37_b','ap37_c','ap37_d','ap37_dicotomica','ap37_e','ap37_f','ap37_g','ap37_h','ap37_i','ap37_j','ap37_k','ap37_l','ap37_m','ap37_n','ap38_a','ap38_b','ap38_c','ap38_d','ap38_e','ap38_f','ap38_g','ap38_h','ap38_i','ap38_j','ap38_k','ap38_l','ap38_m','ap38_n','ap41_01','ap41_02','ap41_03','ap41_04','ap41_05','ap41_06','ap41_07','ap41_08','ap41_09','ap41_10','ap41_11','ap42_01rec','ap42_02','ap42_02rec','ap42_03','ap42_03rec','ap42_04','ap42_04rec','ap43_b','ap43_c','ap43_d','ap43_e','ap43_f','ap43_g','ap43_h','ap44_01','ap44_02','ap44_03','ap44_04','ap44_05','ap45','ap46_01','ap46_02','ap46_03','ap46_04','ap46_05','ap47_01','ap47_02','ap47_03','ap47_04','ap47_05','ap47_06','ap47_07','ap47_08','ap47_09','ap47_10','ap47_11','ap47_12','ap48_a','ap48_b','ap48_c','ap48_d','ap48_e','ap48_f','ap48_g','ap48_h','ap48_i','iinfraestructura','isocioal','isocioam','jardín','repitencia_dicotomica','sobreedad','ap08_a','ap08_b','ap08_c','ap08_d','ap08_e','ap08_f','ap08_g','ap08_h','ap08_i','ap26','ap01_02','ap21','ID1','infraestructura']\n",
    "\n",
    "datafinal =data.drop(columns_drop, axis=1)"
   ]
  },
  {
   "cell_type": "markdown",
   "metadata": {},
   "source": [
    "Remplazo valores negativos por positivos para posterior transformacion"
   ]
  },
  {
   "cell_type": "code",
   "execution_count": 6,
   "metadata": {},
   "outputs": [],
   "source": [
    "datafinal['ap32_e']=datafinal['ap32_e'].replace('-9', '2')\n",
    "datafinal['ap33_01_a']=datafinal['ap33_01_a'].replace('-9', '2')\n",
    "datafinal['ap33_01_b']=datafinal['ap33_01_b'].replace('-9', '2')\n",
    "datafinal['ap43_a']=datafinal['ap43_a'].replace('-9', '2')"
   ]
  },
  {
   "cell_type": "markdown",
   "metadata": {},
   "source": [
    "Paso valores negativos del dataset a NaN"
   ]
  },
  {
   "cell_type": "code",
   "execution_count": 7,
   "metadata": {},
   "outputs": [],
   "source": [
    "Listacolumns = [ 'ap02', 'ap03', 'ap04', 'ap05',\n",
    "       'ap06', 'ap07', 'ap09', 'ap11_08', 'ap14_02', 'ap16', 'ap17', 'ap23_01',\n",
    "       'ap23_02', 'ap23_03', 'ap23_04', 'ap23_05', 'ap23_06', 'ap24',\n",
    "       'ap25_01', 'ap25_02', 'ap25_03', 'ap28_01', 'ap29_01', 'ap32_e',\n",
    "       'ap33_01_a', 'ap33_01_b', 'ap34', 'ap35_03', 'ap39_01', 'ap39_02',\n",
    "       'ap39_03', 'ap39_04', 'ap40_01', 'ap40_02', 'ap40_03', 'ap40_04',\n",
    "       'ap40_05', 'ap40_06', 'ap42_01', 'ap43_a', 'ap49_01', 'ap49_02',\n",
    "       'ap50_01', 'ap50_02', 'ap50_03', 'ap50_04', 'ap50_05', 'ap51_01',\n",
    "       'ap51_02', 'ap51_03', 'ap51_04', 'ap51_05', 'ap51_06', 'ap51_07',\n",
    "       'ap51_08', 'ap51_09', 'ap51_10',\n",
    "       'ldesemp', 'mdesemp', 'ap26_rec',\n",
    "       'trabaja_fuera_hogar', 'trabaja_fuera_hogar_remunerado', 'migración',\n",
    "       'edadA_junio2019']"
   ]
  },
  {
   "cell_type": "code",
   "execution_count": 8,
   "metadata": {},
   "outputs": [],
   "source": [
    "for columna in Listacolumns:\n",
    "    datafinal[columna]=datafinal[columna].replace('-9', np.nan)"
   ]
  },
  {
   "cell_type": "code",
   "execution_count": 9,
   "metadata": {},
   "outputs": [],
   "source": [
    "for columna in Listacolumns:\n",
    "    datafinal[columna] = pd.to_numeric(datafinal[columna], errors='coerce',downcast='integer')"
   ]
  },
  {
   "cell_type": "markdown",
   "metadata": {},
   "source": [
    "Miro % de missings en los atributos"
   ]
  },
  {
   "cell_type": "code",
   "execution_count": 10,
   "metadata": {},
   "outputs": [
    {
     "name": "stdout",
     "output_type": "stream",
     "text": [
      "cod_provincia                      0.000000\n",
      "sector                             0.000000\n",
      "ambito                             0.000000\n",
      "ap02                               2.800291\n",
      "ap03                               1.923782\n",
      "ap04                               2.148073\n",
      "ap05                               3.604655\n",
      "ap06                               2.643491\n",
      "ap07                               4.334255\n",
      "ap09                               3.285527\n",
      "ap11_08                            6.018618\n",
      "ap14_02                           14.804945\n",
      "ap16                               2.652800\n",
      "ap17                               3.558982\n",
      "ap23_01                            4.416873\n",
      "ap23_02                            6.602473\n",
      "ap23_03                            7.170327\n",
      "ap23_04                            5.782691\n",
      "ap23_05                            7.640436\n",
      "ap23_06                            6.699927\n",
      "ap24                               3.273309\n",
      "ap25_01                            9.452509\n",
      "ap25_02                            8.659491\n",
      "ap25_03                           10.398255\n",
      "ap28_01                            3.659345\n",
      "ap29_01                            4.041309\n",
      "ap32_e                             0.616727\n",
      "ap33_01_a                          0.621673\n",
      "ap33_01_b                          0.621673\n",
      "ap34                               5.858327\n",
      "ap35_03                            6.167855\n",
      "ap39_01                            5.536873\n",
      "ap39_02                            6.100073\n",
      "ap39_03                            5.996800\n",
      "ap39_04                            6.309236\n",
      "ap40_01                            6.037818\n",
      "ap40_02                            6.598109\n",
      "ap40_03                            6.639127\n",
      "ap40_04                            7.192727\n",
      "ap40_05                            6.779055\n",
      "ap40_06                            7.154327\n",
      "ap42_01                            8.718836\n",
      "ap43_a                             0.631564\n",
      "ap49_01                           27.333818\n",
      "ap49_02                           27.084509\n",
      "ap50_01                           25.465600\n",
      "ap50_02                           26.368291\n",
      "ap50_03                           26.610909\n",
      "ap50_04                           26.724364\n",
      "ap50_05                           26.454400\n",
      "ap51_01                           25.730909\n",
      "ap51_02                           26.139345\n",
      "ap51_03                           27.198255\n",
      "ap51_04                           26.904727\n",
      "ap51_05                           27.035927\n",
      "ap51_06                           27.385018\n",
      "ap51_07                           27.584873\n",
      "ap51_08                           27.323345\n",
      "ap51_09                           26.810764\n",
      "ap51_10                           26.736873\n",
      "ldesemp                            4.267055\n",
      "mdesemp                            5.540655\n",
      "isocioa                            5.800145\n",
      "ap26_rec                           2.505891\n",
      "trabaja_fuera_hogar                3.613091\n",
      "trabaja_fuera_hogar_remunerado     3.613091\n",
      "migración                          1.657891\n",
      "edadA_junio2019                    4.985891\n",
      "dtype: float64\n"
     ]
    }
   ],
   "source": [
    "pd.set_option('display.max_rows', 300)\n",
    "print(datafinal.isna().sum()/len(datafinal)*100)"
   ]
  },
  {
   "cell_type": "markdown",
   "metadata": {},
   "source": [
    "Eliminio los registros con valores NaN"
   ]
  },
  {
   "cell_type": "code",
   "execution_count": 11,
   "metadata": {},
   "outputs": [],
   "source": [
    "datafinal = datafinal.dropna()"
   ]
  },
  {
   "cell_type": "markdown",
   "metadata": {},
   "source": [
    "Miro el tamaño del dataset luego de las modificaciones"
   ]
  },
  {
   "cell_type": "code",
   "execution_count": 12,
   "metadata": {},
   "outputs": [
    {
     "data": {
      "text/plain": [
       "(123018, 68)"
      ]
     },
     "execution_count": 12,
     "metadata": {},
     "output_type": "execute_result"
    }
   ],
   "source": [
    "datafinal.shape"
   ]
  },
  {
   "cell_type": "markdown",
   "metadata": {},
   "source": [
    "Armo formatos finales de cada columna"
   ]
  },
  {
   "cell_type": "code",
   "execution_count": 13,
   "metadata": {},
   "outputs": [],
   "source": [
    "for columna in datafinal.columns:\n",
    "    datafinal[columna] = datafinal[columna].astype(object)\n",
    "datafinal['mdesemp'] = datafinal['mdesemp'].astype(int)"
   ]
  },
  {
   "cell_type": "markdown",
   "metadata": {},
   "source": [
    "Miro formato final del dataset"
   ]
  },
  {
   "cell_type": "code",
   "execution_count": 14,
   "metadata": {},
   "outputs": [
    {
     "name": "stdout",
     "output_type": "stream",
     "text": [
      "<class 'pandas.core.frame.DataFrame'>\n",
      "Int64Index: 123018 entries, 0 to 343741\n",
      "Data columns (total 68 columns):\n",
      " #   Column                          Non-Null Count   Dtype \n",
      "---  ------                          --------------   ----- \n",
      " 0   cod_provincia                   123018 non-null  object\n",
      " 1   sector                          123018 non-null  object\n",
      " 2   ambito                          123018 non-null  object\n",
      " 3   ap02                            123018 non-null  object\n",
      " 4   ap03                            123018 non-null  object\n",
      " 5   ap04                            123018 non-null  object\n",
      " 6   ap05                            123018 non-null  object\n",
      " 7   ap06                            123018 non-null  object\n",
      " 8   ap07                            123018 non-null  object\n",
      " 9   ap09                            123018 non-null  object\n",
      " 10  ap11_08                         123018 non-null  object\n",
      " 11  ap14_02                         123018 non-null  object\n",
      " 12  ap16                            123018 non-null  object\n",
      " 13  ap17                            123018 non-null  object\n",
      " 14  ap23_01                         123018 non-null  object\n",
      " 15  ap23_02                         123018 non-null  object\n",
      " 16  ap23_03                         123018 non-null  object\n",
      " 17  ap23_04                         123018 non-null  object\n",
      " 18  ap23_05                         123018 non-null  object\n",
      " 19  ap23_06                         123018 non-null  object\n",
      " 20  ap24                            123018 non-null  object\n",
      " 21  ap25_01                         123018 non-null  object\n",
      " 22  ap25_02                         123018 non-null  object\n",
      " 23  ap25_03                         123018 non-null  object\n",
      " 24  ap28_01                         123018 non-null  object\n",
      " 25  ap29_01                         123018 non-null  object\n",
      " 26  ap32_e                          123018 non-null  object\n",
      " 27  ap33_01_a                       123018 non-null  object\n",
      " 28  ap33_01_b                       123018 non-null  object\n",
      " 29  ap34                            123018 non-null  object\n",
      " 30  ap35_03                         123018 non-null  object\n",
      " 31  ap39_01                         123018 non-null  object\n",
      " 32  ap39_02                         123018 non-null  object\n",
      " 33  ap39_03                         123018 non-null  object\n",
      " 34  ap39_04                         123018 non-null  object\n",
      " 35  ap40_01                         123018 non-null  object\n",
      " 36  ap40_02                         123018 non-null  object\n",
      " 37  ap40_03                         123018 non-null  object\n",
      " 38  ap40_04                         123018 non-null  object\n",
      " 39  ap40_05                         123018 non-null  object\n",
      " 40  ap40_06                         123018 non-null  object\n",
      " 41  ap42_01                         123018 non-null  object\n",
      " 42  ap43_a                          123018 non-null  object\n",
      " 43  ap49_01                         123018 non-null  object\n",
      " 44  ap49_02                         123018 non-null  object\n",
      " 45  ap50_01                         123018 non-null  object\n",
      " 46  ap50_02                         123018 non-null  object\n",
      " 47  ap50_03                         123018 non-null  object\n",
      " 48  ap50_04                         123018 non-null  object\n",
      " 49  ap50_05                         123018 non-null  object\n",
      " 50  ap51_01                         123018 non-null  object\n",
      " 51  ap51_02                         123018 non-null  object\n",
      " 52  ap51_03                         123018 non-null  object\n",
      " 53  ap51_04                         123018 non-null  object\n",
      " 54  ap51_05                         123018 non-null  object\n",
      " 55  ap51_06                         123018 non-null  object\n",
      " 56  ap51_07                         123018 non-null  object\n",
      " 57  ap51_08                         123018 non-null  object\n",
      " 58  ap51_09                         123018 non-null  object\n",
      " 59  ap51_10                         123018 non-null  object\n",
      " 60  ldesemp                         123018 non-null  object\n",
      " 61  mdesemp                         123018 non-null  int32 \n",
      " 62  isocioa                         123018 non-null  object\n",
      " 63  ap26_rec                        123018 non-null  object\n",
      " 64  trabaja_fuera_hogar             123018 non-null  object\n",
      " 65  trabaja_fuera_hogar_remunerado  123018 non-null  object\n",
      " 66  migración                       123018 non-null  object\n",
      " 67  edadA_junio2019                 123018 non-null  object\n",
      "dtypes: int32(1), object(67)\n",
      "memory usage: 64.3+ MB\n"
     ]
    }
   ],
   "source": [
    "datafinal.info()"
   ]
  },
  {
   "cell_type": "markdown",
   "metadata": {},
   "source": [
    "Transformo las columnas en formato UTF-8"
   ]
  },
  {
   "cell_type": "code",
   "execution_count": 15,
   "metadata": {},
   "outputs": [
    {
     "data": {
      "text/html": [
       "<div>\n",
       "<style scoped>\n",
       "    .dataframe tbody tr th:only-of-type {\n",
       "        vertical-align: middle;\n",
       "    }\n",
       "\n",
       "    .dataframe tbody tr th {\n",
       "        vertical-align: top;\n",
       "    }\n",
       "\n",
       "    .dataframe thead th {\n",
       "        text-align: right;\n",
       "    }\n",
       "</style>\n",
       "<table border=\"1\" class=\"dataframe\">\n",
       "  <thead>\n",
       "    <tr style=\"text-align: right;\">\n",
       "      <th></th>\n",
       "      <th>cod_provincia</th>\n",
       "      <th>sector</th>\n",
       "      <th>ambito</th>\n",
       "      <th>ap02</th>\n",
       "      <th>ap03</th>\n",
       "      <th>ap04</th>\n",
       "      <th>ap05</th>\n",
       "      <th>ap06</th>\n",
       "      <th>ap07</th>\n",
       "      <th>ap09</th>\n",
       "      <th>...</th>\n",
       "      <th>ap51_09</th>\n",
       "      <th>ap51_10</th>\n",
       "      <th>ldesemp</th>\n",
       "      <th>mdesemp</th>\n",
       "      <th>isocioa</th>\n",
       "      <th>ap26_rec</th>\n",
       "      <th>trabaja_fuera_hogar</th>\n",
       "      <th>trabaja_fuera_hogar_remunerado</th>\n",
       "      <th>migracin</th>\n",
       "      <th>edadA_junio2019</th>\n",
       "    </tr>\n",
       "  </thead>\n",
       "  <tbody>\n",
       "    <tr>\n",
       "      <th>0</th>\n",
       "      <td>2</td>\n",
       "      <td>2</td>\n",
       "      <td>1</td>\n",
       "      <td>1</td>\n",
       "      <td>1</td>\n",
       "      <td>1</td>\n",
       "      <td>1</td>\n",
       "      <td>2</td>\n",
       "      <td>3</td>\n",
       "      <td>2</td>\n",
       "      <td>...</td>\n",
       "      <td>1</td>\n",
       "      <td>5</td>\n",
       "      <td>4</td>\n",
       "      <td>4</td>\n",
       "      <td>3</td>\n",
       "      <td>3</td>\n",
       "      <td>2</td>\n",
       "      <td>3</td>\n",
       "      <td>2</td>\n",
       "      <td>17</td>\n",
       "    </tr>\n",
       "    <tr>\n",
       "      <th>1</th>\n",
       "      <td>2</td>\n",
       "      <td>2</td>\n",
       "      <td>1</td>\n",
       "      <td>2</td>\n",
       "      <td>1</td>\n",
       "      <td>1</td>\n",
       "      <td>1</td>\n",
       "      <td>2</td>\n",
       "      <td>3</td>\n",
       "      <td>2</td>\n",
       "      <td>...</td>\n",
       "      <td>4</td>\n",
       "      <td>1</td>\n",
       "      <td>4</td>\n",
       "      <td>4</td>\n",
       "      <td>3</td>\n",
       "      <td>2</td>\n",
       "      <td>2</td>\n",
       "      <td>3</td>\n",
       "      <td>2</td>\n",
       "      <td>17</td>\n",
       "    </tr>\n",
       "    <tr>\n",
       "      <th>2</th>\n",
       "      <td>2</td>\n",
       "      <td>2</td>\n",
       "      <td>1</td>\n",
       "      <td>1</td>\n",
       "      <td>1</td>\n",
       "      <td>1</td>\n",
       "      <td>1</td>\n",
       "      <td>2</td>\n",
       "      <td>3</td>\n",
       "      <td>2</td>\n",
       "      <td>...</td>\n",
       "      <td>2</td>\n",
       "      <td>2</td>\n",
       "      <td>4</td>\n",
       "      <td>3</td>\n",
       "      <td>2</td>\n",
       "      <td>2</td>\n",
       "      <td>2</td>\n",
       "      <td>3</td>\n",
       "      <td>2</td>\n",
       "      <td>17</td>\n",
       "    </tr>\n",
       "    <tr>\n",
       "      <th>3</th>\n",
       "      <td>2</td>\n",
       "      <td>2</td>\n",
       "      <td>1</td>\n",
       "      <td>2</td>\n",
       "      <td>1</td>\n",
       "      <td>1</td>\n",
       "      <td>1</td>\n",
       "      <td>2</td>\n",
       "      <td>2</td>\n",
       "      <td>2</td>\n",
       "      <td>...</td>\n",
       "      <td>2</td>\n",
       "      <td>3</td>\n",
       "      <td>4</td>\n",
       "      <td>3</td>\n",
       "      <td>3</td>\n",
       "      <td>3</td>\n",
       "      <td>2</td>\n",
       "      <td>3</td>\n",
       "      <td>2</td>\n",
       "      <td>17</td>\n",
       "    </tr>\n",
       "    <tr>\n",
       "      <th>4</th>\n",
       "      <td>2</td>\n",
       "      <td>2</td>\n",
       "      <td>1</td>\n",
       "      <td>2</td>\n",
       "      <td>1</td>\n",
       "      <td>1</td>\n",
       "      <td>1</td>\n",
       "      <td>2</td>\n",
       "      <td>2</td>\n",
       "      <td>2</td>\n",
       "      <td>...</td>\n",
       "      <td>2</td>\n",
       "      <td>3</td>\n",
       "      <td>4</td>\n",
       "      <td>3</td>\n",
       "      <td>3</td>\n",
       "      <td>2</td>\n",
       "      <td>2</td>\n",
       "      <td>3</td>\n",
       "      <td>2</td>\n",
       "      <td>17</td>\n",
       "    </tr>\n",
       "  </tbody>\n",
       "</table>\n",
       "<p>5 rows × 68 columns</p>\n",
       "</div>"
      ],
      "text/plain": [
       "  cod_provincia sector ambito ap02 ap03 ap04 ap05 ap06 ap07 ap09  ... ap51_09  \\\n",
       "0             2      2      1    1    1    1    1    2    3    2  ...       1   \n",
       "1             2      2      1    2    1    1    1    2    3    2  ...       4   \n",
       "2             2      2      1    1    1    1    1    2    3    2  ...       2   \n",
       "3             2      2      1    2    1    1    1    2    2    2  ...       2   \n",
       "4             2      2      1    2    1    1    1    2    2    2  ...       2   \n",
       "\n",
       "  ap51_10 ldesemp mdesemp isocioa ap26_rec trabaja_fuera_hogar  \\\n",
       "0       5       4       4       3        3                   2   \n",
       "1       1       4       4       3        2                   2   \n",
       "2       2       4       3       2        2                   2   \n",
       "3       3       4       3       3        3                   2   \n",
       "4       3       4       3       3        2                   2   \n",
       "\n",
       "  trabaja_fuera_hogar_remunerado migracin edadA_junio2019  \n",
       "0                              3        2              17  \n",
       "1                              3        2              17  \n",
       "2                              3        2              17  \n",
       "3                              3        2              17  \n",
       "4                              3        2              17  \n",
       "\n",
       "[5 rows x 68 columns]"
      ]
     },
     "execution_count": 15,
     "metadata": {},
     "output_type": "execute_result"
    }
   ],
   "source": [
    "import re\n",
    "datafinal = datafinal.rename(columns = lambda x:re.sub('[^A-Za-z0-9_]+', '', x))\n",
    "datafinal.head(5)"
   ]
  },
  {
   "cell_type": "markdown",
   "metadata": {},
   "source": [
    "Separo X e Y, y armo target de Y (1 si la nota es desaprobada)"
   ]
  },
  {
   "cell_type": "code",
   "execution_count": 16,
   "metadata": {},
   "outputs": [],
   "source": [
    "datamate = datafinal.drop(['ldesemp'],axis=1)\n",
    "'''.sample(n=20000,random_state=15)'''\n",
    "datamate['target']=datamate.mdesemp.apply(lambda x: 1 if x==1 else 0)"
   ]
  },
  {
   "cell_type": "code",
   "execution_count": 17,
   "metadata": {},
   "outputs": [
    {
     "data": {
      "text/plain": [
       "0    84296\n",
       "1    38722\n",
       "Name: mdesemp, dtype: int64"
      ]
     },
     "execution_count": 17,
     "metadata": {},
     "output_type": "execute_result"
    }
   ],
   "source": [
    "X = datamate.drop(['mdesemp','target'],axis=1)\n",
    "\n",
    "X = pd.get_dummies(X, drop_first=True)\n",
    "y = datamate.mdesemp.apply(lambda x: 1 if x==1 else 0)\n",
    "\n",
    "y.value_counts()\n",
    "\n"
   ]
  },
  {
   "cell_type": "markdown",
   "metadata": {},
   "source": [
    "Miro cantidad de columnas dummies"
   ]
  },
  {
   "cell_type": "code",
   "execution_count": 18,
   "metadata": {},
   "outputs": [
    {
     "data": {
      "text/plain": [
       "Index(['cod_provincia_6', 'cod_provincia_10', 'cod_provincia_14',\n",
       "       'cod_provincia_18', 'cod_provincia_22', 'cod_provincia_30',\n",
       "       'cod_provincia_34', 'cod_provincia_38', 'cod_provincia_42',\n",
       "       'cod_provincia_46',\n",
       "       ...\n",
       "       'migracin_1.0', 'migracin_2.0', 'migracin_9.0', 'edadA_junio2019_15.0',\n",
       "       'edadA_junio2019_16.0', 'edadA_junio2019_17.0', 'edadA_junio2019_18.0',\n",
       "       'edadA_junio2019_19.0', 'edadA_junio2019_20.0', 'edadA_junio2019_21.0'],\n",
       "      dtype='object', length=307)"
      ]
     },
     "execution_count": 18,
     "metadata": {},
     "output_type": "execute_result"
    }
   ],
   "source": [
    "Columnas = X.columns\n",
    "Columnas"
   ]
  },
  {
   "cell_type": "markdown",
   "metadata": {},
   "source": [
    "Defino funciones para pipelines"
   ]
  },
  {
   "cell_type": "code",
   "execution_count": 19,
   "metadata": {},
   "outputs": [],
   "source": [
    "class ColumnSelector(BaseEstimator, TransformerMixin):\n",
    "    def __init__(self, columns):\n",
    "        self.columns = columns\n",
    "    \n",
    "    def transform(self, X, *_):\n",
    "        if isinstance(X, pd.DataFrame):\n",
    "            return pd.DataFrame(X[self.columns])\n",
    "        else:\n",
    "            raise TypeError(\"Este Transformador solo funciona en DF de Pandas\")\n",
    "    \n",
    "    def fit(self, X, *_):\n",
    "        return self\n",
    "    "
   ]
  },
  {
   "cell_type": "code",
   "execution_count": 20,
   "metadata": {},
   "outputs": [],
   "source": [
    "class GetDummiesTransformer(BaseEstimator, TransformerMixin):\n",
    "    def __init__(self, columns):\n",
    "        self.columns = columns\n",
    "    \n",
    "    def transform(self, X, *_):\n",
    "        if isinstance(X, pd.DataFrame):\n",
    "            return pd.get_dummies(X[self.columns], columns = self.columns,dummy_na = True, drop_first= True)\n",
    "        else:\n",
    "            raise TypeError(\"Este Transformador solo funciona en DF de Pandas\")\n",
    "    \n",
    "    def fit(self, X, *_):\n",
    "        return self\n"
   ]
  },
  {
   "cell_type": "markdown",
   "metadata": {},
   "source": [
    "Genero primer paso del Pipeline con StandardScaler"
   ]
  },
  {
   "cell_type": "code",
   "execution_count": 21,
   "metadata": {},
   "outputs": [
    {
     "data": {
      "text/plain": [
       "array([[-0.75603758, -0.10229654, -0.36863232, ..., -0.18019974,\n",
       "        -0.0943748 , -0.04290117],\n",
       "       [-0.75603758, -0.10229654, -0.36863232, ..., -0.18019974,\n",
       "        -0.0943748 , -0.04290117],\n",
       "       [-0.75603758, -0.10229654, -0.36863232, ..., -0.18019974,\n",
       "        -0.0943748 , -0.04290117],\n",
       "       ...,\n",
       "       [-0.75603758, -0.10229654, -0.36863232, ..., -0.18019974,\n",
       "        10.59604847, -0.04290117],\n",
       "       [-0.75603758, -0.10229654, -0.36863232, ..., -0.18019974,\n",
       "        -0.0943748 , -0.04290117],\n",
       "       [-0.75603758, -0.10229654, -0.36863232, ..., -0.18019974,\n",
       "        -0.0943748 , -0.04290117]])"
      ]
     },
     "execution_count": 21,
     "metadata": {},
     "output_type": "execute_result"
    }
   ],
   "source": [
    "union = make_pipeline(StandardScaler())\n",
    "\n",
    "union.fit_transform(X)"
   ]
  },
  {
   "cell_type": "markdown",
   "metadata": {},
   "source": [
    "Separo en dataset train y Test"
   ]
  },
  {
   "cell_type": "code",
   "execution_count": 22,
   "metadata": {},
   "outputs": [
    {
     "data": {
      "text/plain": [
       "((92263, 307), (30755, 307), (92263,), (30755,))"
      ]
     },
     "execution_count": 22,
     "metadata": {},
     "output_type": "execute_result"
    }
   ],
   "source": [
    "from sklearn.model_selection import train_test_split\n",
    "X_train, X_test, y_train, y_test = train_test_split(X, y, test_size=0.25, random_state=40)\n",
    "X_train.shape, X_test.shape, y_train.shape, y_test.shape"
   ]
  },
  {
   "cell_type": "markdown",
   "metadata": {},
   "source": [
    "Utilizo Undersampling para balanceo de clases"
   ]
  },
  {
   "cell_type": "code",
   "execution_count": 23,
   "metadata": {},
   "outputs": [],
   "source": [
    "from imblearn.under_sampling import RandomUnderSampler\n",
    "\n",
    "\n",
    "sampler=RandomUnderSampler()\n",
    "X_train_us,y_train_us=sampler.fit_resample(X_train,y_train)"
   ]
  },
  {
   "cell_type": "markdown",
   "metadata": {},
   "source": [
    "Miro si el balanceo quedo correcto"
   ]
  },
  {
   "cell_type": "code",
   "execution_count": 24,
   "metadata": {},
   "outputs": [
    {
     "data": {
      "text/plain": [
       "1    29089\n",
       "0    29089\n",
       "Name: mdesemp, dtype: int64"
      ]
     },
     "execution_count": 24,
     "metadata": {},
     "output_type": "execute_result"
    }
   ],
   "source": [
    "y_train_us.value_counts()"
   ]
  },
  {
   "cell_type": "code",
   "execution_count": 25,
   "metadata": {},
   "outputs": [
    {
     "data": {
      "text/plain": [
       "0    21122\n",
       "1     9633\n",
       "Name: mdesemp, dtype: int64"
      ]
     },
     "execution_count": 25,
     "metadata": {},
     "output_type": "execute_result"
    }
   ],
   "source": [
    "y_test.value_counts()"
   ]
  },
  {
   "cell_type": "markdown",
   "metadata": {},
   "source": [
    "Aplico algoritmo de regresiones logisticas al dataset y veo resultados"
   ]
  },
  {
   "cell_type": "code",
   "execution_count": 25,
   "metadata": {},
   "outputs": [],
   "source": [
    "pipeline = Pipeline([('union', union), \n",
    "                     ('clasificador', LogisticRegression(solver='liblinear'))])\n",
    "\n",
    "parameters = {'clasificador__penalty': ['l1', 'l2'],\n",
    "              'clasificador__C': [0.001, 0.01, 0.1, 1, 10, 100, 1000]}"
   ]
  },
  {
   "cell_type": "code",
   "execution_count": 26,
   "metadata": {},
   "outputs": [],
   "source": [
    "from sklearn.model_selection import StratifiedKFold\n",
    "\n",
    "folds=StratifiedKFold(n_splits=5,shuffle=True, random_state=7)\n",
    "\n",
    "grid_search = GridSearchCV (pipeline, parameters,cv=folds, n_jobs = 5)"
   ]
  },
  {
   "cell_type": "code",
   "execution_count": 27,
   "metadata": {},
   "outputs": [
    {
     "data": {
      "text/plain": [
       "GridSearchCV(cv=StratifiedKFold(n_splits=5, random_state=7, shuffle=True),\n",
       "             estimator=Pipeline(steps=[('union',\n",
       "                                        Pipeline(steps=[('standardscaler',\n",
       "                                                         StandardScaler())])),\n",
       "                                       ('clasificador',\n",
       "                                        LogisticRegression(solver='liblinear'))]),\n",
       "             n_jobs=5,\n",
       "             param_grid={'clasificador__C': [0.001, 0.01, 0.1, 1, 10, 100,\n",
       "                                             1000],\n",
       "                         'clasificador__penalty': ['l1', 'l2']})"
      ]
     },
     "execution_count": 27,
     "metadata": {},
     "output_type": "execute_result"
    }
   ],
   "source": [
    "grid_search.fit(pd.DataFrame(X_train_us, columns=X.columns), y_train_us)"
   ]
  },
  {
   "cell_type": "markdown",
   "metadata": {},
   "source": [
    "Miro el mejor score con los hiperparametros dados, y sus metricas principales"
   ]
  },
  {
   "cell_type": "code",
   "execution_count": 28,
   "metadata": {},
   "outputs": [
    {
     "name": "stdout",
     "output_type": "stream",
     "text": [
      "Best score: 0.719\n",
      "Best parameters set:\n",
      "\t clasificador__C: 0.001\n",
      "\t clasificador__penalty: 'l2'\n"
     ]
    }
   ],
   "source": [
    "print(\"Best score: %0.3f\" % grid_search.best_score_) \n",
    "print(\"Best parameters set:\" )\n",
    "best_parameters = grid_search.best_estimator_.get_params()\n",
    "for param_name in sorted (parameters . keys()): \n",
    "                    print(\"\\t %s: %r\" % (param_name, best_parameters[param_name])) "
   ]
  },
  {
   "cell_type": "code",
   "execution_count": 29,
   "metadata": {},
   "outputs": [],
   "source": [
    "y_pred = grid_search.best_estimator_.predict(X_test)"
   ]
  },
  {
   "cell_type": "code",
   "execution_count": 30,
   "metadata": {},
   "outputs": [
    {
     "data": {
      "text/html": [
       "<style  type=\"text/css\" >\n",
       "    #T_45f42be8_0a16_11ec_88ad_7066551679cerow0_col0 {\n",
       "            background-color:  #fde725;\n",
       "            color:  #000000;\n",
       "        }    #T_45f42be8_0a16_11ec_88ad_7066551679cerow0_col1 {\n",
       "            background-color:  #440154;\n",
       "            color:  #f1f1f1;\n",
       "        }    #T_45f42be8_0a16_11ec_88ad_7066551679cerow0_col2 {\n",
       "            background-color:  #fde725;\n",
       "            color:  #000000;\n",
       "        }    #T_45f42be8_0a16_11ec_88ad_7066551679cerow1_col0 {\n",
       "            background-color:  #440154;\n",
       "            color:  #f1f1f1;\n",
       "        }    #T_45f42be8_0a16_11ec_88ad_7066551679cerow1_col1 {\n",
       "            background-color:  #fde725;\n",
       "            color:  #000000;\n",
       "        }    #T_45f42be8_0a16_11ec_88ad_7066551679cerow1_col2 {\n",
       "            background-color:  #440154;\n",
       "            color:  #f1f1f1;\n",
       "        }</style><table id=\"T_45f42be8_0a16_11ec_88ad_7066551679ce\" ><thead>    <tr>        <th class=\"blank level0\" ></th>        <th class=\"col_heading level0 col0\" >precision</th>        <th class=\"col_heading level0 col1\" >recall</th>        <th class=\"col_heading level0 col2\" >f1-score</th>        <th class=\"col_heading level0 col3\" >support</th>    </tr></thead><tbody>\n",
       "                <tr>\n",
       "                        <th id=\"T_45f42be8_0a16_11ec_88ad_7066551679celevel0_row0\" class=\"row_heading level0 row0\" >0</th>\n",
       "                        <td id=\"T_45f42be8_0a16_11ec_88ad_7066551679cerow0_col0\" class=\"data row0 col0\" >0.853590</td>\n",
       "                        <td id=\"T_45f42be8_0a16_11ec_88ad_7066551679cerow0_col1\" class=\"data row0 col1\" >0.723180</td>\n",
       "                        <td id=\"T_45f42be8_0a16_11ec_88ad_7066551679cerow0_col2\" class=\"data row0 col2\" >0.782992</td>\n",
       "                        <td id=\"T_45f42be8_0a16_11ec_88ad_7066551679cerow0_col3\" class=\"data row0 col3\" >21122</td>\n",
       "            </tr>\n",
       "            <tr>\n",
       "                        <th id=\"T_45f42be8_0a16_11ec_88ad_7066551679celevel0_row1\" class=\"row_heading level0 row1\" >1</th>\n",
       "                        <td id=\"T_45f42be8_0a16_11ec_88ad_7066551679cerow1_col0\" class=\"data row1 col0\" >0.545334</td>\n",
       "                        <td id=\"T_45f42be8_0a16_11ec_88ad_7066551679cerow1_col1\" class=\"data row1 col1\" >0.728018</td>\n",
       "                        <td id=\"T_45f42be8_0a16_11ec_88ad_7066551679cerow1_col2\" class=\"data row1 col2\" >0.623572</td>\n",
       "                        <td id=\"T_45f42be8_0a16_11ec_88ad_7066551679cerow1_col3\" class=\"data row1 col3\" >9633</td>\n",
       "            </tr>\n",
       "            <tr>\n",
       "                        <th id=\"T_45f42be8_0a16_11ec_88ad_7066551679celevel0_row2\" class=\"row_heading level0 row2\" >accuracy</th>\n",
       "                        <td id=\"T_45f42be8_0a16_11ec_88ad_7066551679cerow2_col0\" class=\"data row2 col0\" >0.724695</td>\n",
       "                        <td id=\"T_45f42be8_0a16_11ec_88ad_7066551679cerow2_col1\" class=\"data row2 col1\" >0.724695</td>\n",
       "                        <td id=\"T_45f42be8_0a16_11ec_88ad_7066551679cerow2_col2\" class=\"data row2 col2\" >0.724695</td>\n",
       "                        <td id=\"T_45f42be8_0a16_11ec_88ad_7066551679cerow2_col3\" class=\"data row2 col3\" >0</td>\n",
       "            </tr>\n",
       "            <tr>\n",
       "                        <th id=\"T_45f42be8_0a16_11ec_88ad_7066551679celevel0_row3\" class=\"row_heading level0 row3\" >macro avg</th>\n",
       "                        <td id=\"T_45f42be8_0a16_11ec_88ad_7066551679cerow3_col0\" class=\"data row3 col0\" >0.699462</td>\n",
       "                        <td id=\"T_45f42be8_0a16_11ec_88ad_7066551679cerow3_col1\" class=\"data row3 col1\" >0.725599</td>\n",
       "                        <td id=\"T_45f42be8_0a16_11ec_88ad_7066551679cerow3_col2\" class=\"data row3 col2\" >0.703282</td>\n",
       "                        <td id=\"T_45f42be8_0a16_11ec_88ad_7066551679cerow3_col3\" class=\"data row3 col3\" >30755</td>\n",
       "            </tr>\n",
       "            <tr>\n",
       "                        <th id=\"T_45f42be8_0a16_11ec_88ad_7066551679celevel0_row4\" class=\"row_heading level0 row4\" >weighted avg</th>\n",
       "                        <td id=\"T_45f42be8_0a16_11ec_88ad_7066551679cerow4_col0\" class=\"data row4 col0\" >0.757039</td>\n",
       "                        <td id=\"T_45f42be8_0a16_11ec_88ad_7066551679cerow4_col1\" class=\"data row4 col1\" >0.724695</td>\n",
       "                        <td id=\"T_45f42be8_0a16_11ec_88ad_7066551679cerow4_col2\" class=\"data row4 col2\" >0.733059</td>\n",
       "                        <td id=\"T_45f42be8_0a16_11ec_88ad_7066551679cerow4_col3\" class=\"data row4 col3\" >30755</td>\n",
       "            </tr>\n",
       "    </tbody></table>"
      ],
      "text/plain": [
       "<pandas.io.formats.style.Styler at 0x1ffd60faac8>"
      ]
     },
     "execution_count": 30,
     "metadata": {},
     "output_type": "execute_result"
    }
   ],
   "source": [
    "test = pd.DataFrame(classification_report(y_test, y_pred, digits=2,output_dict=True)).T\n",
    "test['support'] = test.support.apply(int)\n",
    "test.style.background_gradient(cmap='viridis',\n",
    "                             subset=pd.IndexSlice['0':'9', :'f1-score'])"
   ]
  },
  {
   "cell_type": "markdown",
   "metadata": {},
   "source": [
    "Genero Matriz de confusion"
   ]
  },
  {
   "cell_type": "code",
   "execution_count": 31,
   "metadata": {},
   "outputs": [
    {
     "data": {
      "text/plain": [
       "Text(33.0, 0.5, 'Reales')"
      ]
     },
     "execution_count": 31,
     "metadata": {},
     "output_type": "execute_result"
    },
    {
     "data": {
      "image/png": "[encoded data removed]",
      "text/plain": [
       "<Figure size 432x288 with 2 Axes>"
      ]
     },
     "metadata": {
      "needs_background": "light"
     },
     "output_type": "display_data"
    }
   ],
   "source": [
    "sns.heatmap(confusion_matrix(y_test, y_pred), annot=True, fmt='4d')\n",
    "plt.xlabel('Predichos')\n",
    "plt.ylabel('Reales')"
   ]
  },
  {
   "cell_type": "markdown",
   "metadata": {},
   "source": [
    "Obtengo el valor de ROC y AUC "
   ]
  },
  {
   "cell_type": "code",
   "execution_count": 32,
   "metadata": {},
   "outputs": [
    {
     "name": "stdout",
     "output_type": "stream",
     "text": [
      "El valor del AUC es:  0.72559894683507\n"
     ]
    }
   ],
   "source": [
    "from sklearn.metrics import roc_auc_score\n",
    "auc = roc_auc_score(y_test,grid_search.best_estimator_.predict(X_test),multi_class=\"ovr\")\n",
    "print(\"El valor del AUC es: \", auc)"
   ]
  },
  {
   "cell_type": "code",
   "execution_count": 33,
   "metadata": {},
   "outputs": [
    {
     "data": {
      "text/plain": [
       "<AxesSubplot:title={'center':'ROC Curves'}, xlabel='False Positive Rate', ylabel='True Positive Rate'>"
      ]
     },
     "execution_count": 33,
     "metadata": {},
     "output_type": "execute_result"
    },
    {
     "data": {
      "image/png": "[encoded data removed]",
      "text/plain": [
       "<Figure size 432x288 with 1 Axes>"
      ]
     },
     "metadata": {
      "needs_background": "light"
     },
     "output_type": "display_data"
    }
   ],
   "source": [
    "from scikitplot.metrics import plot_roc\n",
    "plot_roc(y_test,grid_search.best_estimator_.predict_proba(X_test),plot_micro=False, plot_macro=False,classes_to_plot=1)"
   ]
  },
  {
   "cell_type": "markdown",
   "metadata": {},
   "source": [
    "Aplicamos el modelo de Naive Bayes al dataset"
   ]
  },
  {
   "cell_type": "code",
   "execution_count": 34,
   "metadata": {},
   "outputs": [],
   "source": [
    "pipeline = Pipeline([('union', union), \n",
    "                     ('clasificador', GaussianNB())])\n",
    "\n",
    "parameters = {'clasificador__priors': [None],\n",
    "              'clasificador__var_smoothing': [0.00000001, 0.000000001, 0.00000001]}\n",
    "                    "
   ]
  },
  {
   "cell_type": "code",
   "execution_count": 35,
   "metadata": {},
   "outputs": [],
   "source": [
    "from sklearn.model_selection import StratifiedKFold\n",
    "\n",
    "folds=StratifiedKFold(n_splits=5,shuffle=True, random_state=42)\n",
    "\n",
    "grid_search = GridSearchCV (pipeline, parameters,cv=folds, n_jobs = 5)"
   ]
  },
  {
   "cell_type": "code",
   "execution_count": 36,
   "metadata": {},
   "outputs": [
    {
     "data": {
      "text/plain": [
       "GridSearchCV(cv=StratifiedKFold(n_splits=5, random_state=42, shuffle=True),\n",
       "             estimator=Pipeline(steps=[('union',\n",
       "                                        Pipeline(steps=[('standardscaler',\n",
       "                                                         StandardScaler())])),\n",
       "                                       ('clasificador', GaussianNB())]),\n",
       "             n_jobs=5,\n",
       "             param_grid={'clasificador__priors': [None],\n",
       "                         'clasificador__var_smoothing': [1e-08, 1e-09, 1e-08]})"
      ]
     },
     "execution_count": 36,
     "metadata": {},
     "output_type": "execute_result"
    }
   ],
   "source": [
    "grid_search.fit(pd.DataFrame(X_train_us, columns=X.columns), y_train_us)"
   ]
  },
  {
   "cell_type": "markdown",
   "metadata": {},
   "source": [
    "Miro el mejor score con los hiperparametros dados, y sus metricas principales"
   ]
  },
  {
   "cell_type": "code",
   "execution_count": 37,
   "metadata": {},
   "outputs": [
    {
     "name": "stdout",
     "output_type": "stream",
     "text": [
      "Best score: 0.657\n",
      "Best parameters set:\n",
      "\t clasificador__priors: None\n",
      "\t clasificador__var_smoothing: 1e-08\n"
     ]
    }
   ],
   "source": [
    "print(\"Best score: %0.3f\" % grid_search.best_score_) \n",
    "print(\"Best parameters set:\" )\n",
    "best_parameters = grid_search.best_estimator_.get_params()\n",
    "for param_name in sorted (parameters . keys()): \n",
    "                    print(\"\\t %s: %r\" % (param_name, best_parameters[param_name])) "
   ]
  },
  {
   "cell_type": "code",
   "execution_count": 38,
   "metadata": {},
   "outputs": [],
   "source": [
    "y_pred = grid_search.best_estimator_.predict(X_test)"
   ]
  },
  {
   "cell_type": "code",
   "execution_count": 39,
   "metadata": {},
   "outputs": [
    {
     "data": {
      "text/html": [
       "<style  type=\"text/css\" >\n",
       "    #T_4a2c1852_0a16_11ec_b3f1_7066551679cerow0_col0 {\n",
       "            background-color:  #fde725;\n",
       "            color:  #000000;\n",
       "        }    #T_4a2c1852_0a16_11ec_b3f1_7066551679cerow0_col1 {\n",
       "            background-color:  #fde725;\n",
       "            color:  #000000;\n",
       "        }    #T_4a2c1852_0a16_11ec_b3f1_7066551679cerow0_col2 {\n",
       "            background-color:  #fde725;\n",
       "            color:  #000000;\n",
       "        }    #T_4a2c1852_0a16_11ec_b3f1_7066551679cerow1_col0 {\n",
       "            background-color:  #440154;\n",
       "            color:  #f1f1f1;\n",
       "        }    #T_4a2c1852_0a16_11ec_b3f1_7066551679cerow1_col1 {\n",
       "            background-color:  #440154;\n",
       "            color:  #f1f1f1;\n",
       "        }    #T_4a2c1852_0a16_11ec_b3f1_7066551679cerow1_col2 {\n",
       "            background-color:  #440154;\n",
       "            color:  #f1f1f1;\n",
       "        }</style><table id=\"T_4a2c1852_0a16_11ec_b3f1_7066551679ce\" ><thead>    <tr>        <th class=\"blank level0\" ></th>        <th class=\"col_heading level0 col0\" >precision</th>        <th class=\"col_heading level0 col1\" >recall</th>        <th class=\"col_heading level0 col2\" >f1-score</th>        <th class=\"col_heading level0 col3\" >support</th>    </tr></thead><tbody>\n",
       "                <tr>\n",
       "                        <th id=\"T_4a2c1852_0a16_11ec_b3f1_7066551679celevel0_row0\" class=\"row_heading level0 row0\" >0</th>\n",
       "                        <td id=\"T_4a2c1852_0a16_11ec_b3f1_7066551679cerow0_col0\" class=\"data row0 col0\" >0.785455</td>\n",
       "                        <td id=\"T_4a2c1852_0a16_11ec_b3f1_7066551679cerow0_col1\" class=\"data row0 col1\" >0.797652</td>\n",
       "                        <td id=\"T_4a2c1852_0a16_11ec_b3f1_7066551679cerow0_col2\" class=\"data row0 col2\" >0.791506</td>\n",
       "                        <td id=\"T_4a2c1852_0a16_11ec_b3f1_7066551679cerow0_col3\" class=\"data row0 col3\" >21122</td>\n",
       "            </tr>\n",
       "            <tr>\n",
       "                        <th id=\"T_4a2c1852_0a16_11ec_b3f1_7066551679celevel0_row1\" class=\"row_heading level0 row1\" >1</th>\n",
       "                        <td id=\"T_4a2c1852_0a16_11ec_b3f1_7066551679cerow1_col0\" class=\"data row1 col0\" >0.540677</td>\n",
       "                        <td id=\"T_4a2c1852_0a16_11ec_b3f1_7066551679cerow1_col1\" class=\"data row1 col1\" >0.522267</td>\n",
       "                        <td id=\"T_4a2c1852_0a16_11ec_b3f1_7066551679cerow1_col2\" class=\"data row1 col2\" >0.531313</td>\n",
       "                        <td id=\"T_4a2c1852_0a16_11ec_b3f1_7066551679cerow1_col3\" class=\"data row1 col3\" >9633</td>\n",
       "            </tr>\n",
       "            <tr>\n",
       "                        <th id=\"T_4a2c1852_0a16_11ec_b3f1_7066551679celevel0_row2\" class=\"row_heading level0 row2\" >accuracy</th>\n",
       "                        <td id=\"T_4a2c1852_0a16_11ec_b3f1_7066551679cerow2_col0\" class=\"data row2 col0\" >0.711397</td>\n",
       "                        <td id=\"T_4a2c1852_0a16_11ec_b3f1_7066551679cerow2_col1\" class=\"data row2 col1\" >0.711397</td>\n",
       "                        <td id=\"T_4a2c1852_0a16_11ec_b3f1_7066551679cerow2_col2\" class=\"data row2 col2\" >0.711397</td>\n",
       "                        <td id=\"T_4a2c1852_0a16_11ec_b3f1_7066551679cerow2_col3\" class=\"data row2 col3\" >0</td>\n",
       "            </tr>\n",
       "            <tr>\n",
       "                        <th id=\"T_4a2c1852_0a16_11ec_b3f1_7066551679celevel0_row3\" class=\"row_heading level0 row3\" >macro avg</th>\n",
       "                        <td id=\"T_4a2c1852_0a16_11ec_b3f1_7066551679cerow3_col0\" class=\"data row3 col0\" >0.663066</td>\n",
       "                        <td id=\"T_4a2c1852_0a16_11ec_b3f1_7066551679cerow3_col1\" class=\"data row3 col1\" >0.659959</td>\n",
       "                        <td id=\"T_4a2c1852_0a16_11ec_b3f1_7066551679cerow3_col2\" class=\"data row3 col2\" >0.661409</td>\n",
       "                        <td id=\"T_4a2c1852_0a16_11ec_b3f1_7066551679cerow3_col3\" class=\"data row3 col3\" >30755</td>\n",
       "            </tr>\n",
       "            <tr>\n",
       "                        <th id=\"T_4a2c1852_0a16_11ec_b3f1_7066551679celevel0_row4\" class=\"row_heading level0 row4\" >weighted avg</th>\n",
       "                        <td id=\"T_4a2c1852_0a16_11ec_b3f1_7066551679cerow4_col0\" class=\"data row4 col0\" >0.708786</td>\n",
       "                        <td id=\"T_4a2c1852_0a16_11ec_b3f1_7066551679cerow4_col1\" class=\"data row4 col1\" >0.711397</td>\n",
       "                        <td id=\"T_4a2c1852_0a16_11ec_b3f1_7066551679cerow4_col2\" class=\"data row4 col2\" >0.710009</td>\n",
       "                        <td id=\"T_4a2c1852_0a16_11ec_b3f1_7066551679cerow4_col3\" class=\"data row4 col3\" >30755</td>\n",
       "            </tr>\n",
       "    </tbody></table>"
      ],
      "text/plain": [
       "<pandas.io.formats.style.Styler at 0x1ffe4def608>"
      ]
     },
     "execution_count": 39,
     "metadata": {},
     "output_type": "execute_result"
    }
   ],
   "source": [
    "test = pd.DataFrame(classification_report(y_test, y_pred, digits=2,output_dict=True)).T\n",
    "test['support'] = test.support.apply(int)\n",
    "test.style.background_gradient(cmap='viridis',\n",
    "                             subset=pd.IndexSlice['0':'9', :'f1-score'])"
   ]
  },
  {
   "cell_type": "markdown",
   "metadata": {},
   "source": [
    "Genero Matriz de confusion"
   ]
  },
  {
   "cell_type": "code",
   "execution_count": 40,
   "metadata": {},
   "outputs": [
    {
     "data": {
      "text/plain": [
       "Text(33.0, 0.5, 'Reales')"
      ]
     },
     "execution_count": 40,
     "metadata": {},
     "output_type": "execute_result"
    },
    {
     "data": {
      "image/png": "[encoded data removed]",
      "text/plain": [
       "<Figure size 432x288 with 2 Axes>"
      ]
     },
     "metadata": {
      "needs_background": "light"
     },
     "output_type": "display_data"
    }
   ],
   "source": [
    "sns.heatmap(confusion_matrix(y_test, y_pred), annot=True, fmt='4d')\n",
    "plt.xlabel('Predichos')\n",
    "plt.ylabel('Reales')"
   ]
  },
  {
   "cell_type": "markdown",
   "metadata": {},
   "source": [
    "Miro el valor de curva ROC y AUC"
   ]
  },
  {
   "cell_type": "code",
   "execution_count": 41,
   "metadata": {},
   "outputs": [
    {
     "name": "stdout",
     "output_type": "stream",
     "text": [
      "El valor del AUC es:  0.6599594720012942\n"
     ]
    }
   ],
   "source": [
    "from sklearn.metrics import roc_auc_score\n",
    "auc = roc_auc_score(y_test,grid_search.best_estimator_.predict(X_test),multi_class=\"ovr\")\n",
    "print(\"El valor del AUC es: \", auc)"
   ]
  },
  {
   "cell_type": "code",
   "execution_count": 42,
   "metadata": {},
   "outputs": [
    {
     "data": {
      "text/plain": [
       "<AxesSubplot:title={'center':'ROC Curves'}, xlabel='False Positive Rate', ylabel='True Positive Rate'>"
      ]
     },
     "execution_count": 42,
     "metadata": {},
     "output_type": "execute_result"
    },
    {
     "data": {
      "image/png": "[encoded data removed]",
      "text/plain": [
       "<Figure size 432x288 with 1 Axes>"
      ]
     },
     "metadata": {
      "needs_background": "light"
     },
     "output_type": "display_data"
    }
   ],
   "source": [
    "from scikitplot.metrics import plot_roc\n",
    "plot_roc(y_test,grid_search.best_estimator_.predict_proba(X_test),plot_micro=False, plot_macro=False,classes_to_plot=1)"
   ]
  },
  {
   "cell_type": "markdown",
   "metadata": {},
   "source": [
    "Aplicamos el clasificador KNN al dataset"
   ]
  },
  {
   "cell_type": "code",
   "execution_count": 43,
   "metadata": {},
   "outputs": [],
   "source": [
    "pipeline = Pipeline([('union', union), \n",
    "                     ('clasificador', KNeighborsClassifier())])\n",
    "\n",
    "parameters = {'clasificador__n_neighbors': range(1,50)}\n",
    "                    "
   ]
  },
  {
   "cell_type": "code",
   "execution_count": 44,
   "metadata": {},
   "outputs": [],
   "source": [
    "from sklearn.model_selection import StratifiedKFold\n",
    "\n",
    "folds=StratifiedKFold(n_splits=5,shuffle=True, random_state=42)\n",
    "\n",
    "grid_search = GridSearchCV (pipeline, parameters,cv=folds, n_jobs = 5)"
   ]
  },
  {
   "cell_type": "code",
   "execution_count": 45,
   "metadata": {},
   "outputs": [
    {
     "data": {
      "text/plain": [
       "GridSearchCV(cv=StratifiedKFold(n_splits=5, random_state=42, shuffle=True),\n",
       "             estimator=Pipeline(steps=[('union',\n",
       "                                        Pipeline(steps=[('standardscaler',\n",
       "                                                         StandardScaler())])),\n",
       "                                       ('clasificador',\n",
       "                                        KNeighborsClassifier())]),\n",
       "             n_jobs=5, param_grid={'clasificador__n_neighbors': range(1, 50)})"
      ]
     },
     "execution_count": 45,
     "metadata": {},
     "output_type": "execute_result"
    }
   ],
   "source": [
    "grid_search.fit(pd.DataFrame(X_train_us, columns=X.columns), y_train_us)"
   ]
  },
  {
   "cell_type": "markdown",
   "metadata": {},
   "source": [
    "Miro el mejor score con los hiperparametros dados, y sus metricas principales"
   ]
  },
  {
   "cell_type": "code",
   "execution_count": 46,
   "metadata": {},
   "outputs": [
    {
     "name": "stdout",
     "output_type": "stream",
     "text": [
      "Best score: 0.663\n",
      "Best parameters set:\n",
      "\t clasificador__n_neighbors: 35\n"
     ]
    }
   ],
   "source": [
    "print(\"Best score: %0.3f\" % grid_search.best_score_) \n",
    "print(\"Best parameters set:\" )\n",
    "best_parameters = grid_search.best_estimator_.get_params()\n",
    "for param_name in sorted (parameters . keys()): \n",
    "                    print(\"\\t %s: %r\" % (param_name, best_parameters[param_name])) "
   ]
  },
  {
   "cell_type": "code",
   "execution_count": 47,
   "metadata": {},
   "outputs": [],
   "source": [
    "y_pred = grid_search.best_estimator_.predict(X_test)"
   ]
  },
  {
   "cell_type": "code",
   "execution_count": 48,
   "metadata": {},
   "outputs": [
    {
     "data": {
      "text/html": [
       "<style  type=\"text/css\" >\n",
       "    #T_bc4abe0a_0a3d_11ec_a668_7066551679cerow0_col0 {\n",
       "            background-color:  #fde725;\n",
       "            color:  #000000;\n",
       "        }    #T_bc4abe0a_0a3d_11ec_a668_7066551679cerow0_col1 {\n",
       "            background-color:  #fde725;\n",
       "            color:  #000000;\n",
       "        }    #T_bc4abe0a_0a3d_11ec_a668_7066551679cerow0_col2 {\n",
       "            background-color:  #fde725;\n",
       "            color:  #000000;\n",
       "        }    #T_bc4abe0a_0a3d_11ec_a668_7066551679cerow1_col0 {\n",
       "            background-color:  #440154;\n",
       "            color:  #f1f1f1;\n",
       "        }    #T_bc4abe0a_0a3d_11ec_a668_7066551679cerow1_col1 {\n",
       "            background-color:  #440154;\n",
       "            color:  #f1f1f1;\n",
       "        }    #T_bc4abe0a_0a3d_11ec_a668_7066551679cerow1_col2 {\n",
       "            background-color:  #440154;\n",
       "            color:  #f1f1f1;\n",
       "        }</style><table id=\"T_bc4abe0a_0a3d_11ec_a668_7066551679ce\" ><thead>    <tr>        <th class=\"blank level0\" ></th>        <th class=\"col_heading level0 col0\" >precision</th>        <th class=\"col_heading level0 col1\" >recall</th>        <th class=\"col_heading level0 col2\" >f1-score</th>        <th class=\"col_heading level0 col3\" >support</th>    </tr></thead><tbody>\n",
       "                <tr>\n",
       "                        <th id=\"T_bc4abe0a_0a3d_11ec_a668_7066551679celevel0_row0\" class=\"row_heading level0 row0\" >0</th>\n",
       "                        <td id=\"T_bc4abe0a_0a3d_11ec_a668_7066551679cerow0_col0\" class=\"data row0 col0\" >0.788703</td>\n",
       "                        <td id=\"T_bc4abe0a_0a3d_11ec_a668_7066551679cerow0_col1\" class=\"data row0 col1\" >0.810435</td>\n",
       "                        <td id=\"T_bc4abe0a_0a3d_11ec_a668_7066551679cerow0_col2\" class=\"data row0 col2\" >0.799421</td>\n",
       "                        <td id=\"T_bc4abe0a_0a3d_11ec_a668_7066551679cerow0_col3\" class=\"data row0 col3\" >21122</td>\n",
       "            </tr>\n",
       "            <tr>\n",
       "                        <th id=\"T_bc4abe0a_0a3d_11ec_a668_7066551679celevel0_row1\" class=\"row_heading level0 row1\" >1</th>\n",
       "                        <td id=\"T_bc4abe0a_0a3d_11ec_a668_7066551679cerow1_col0\" class=\"data row1 col0\" >0.557618</td>\n",
       "                        <td id=\"T_bc4abe0a_0a3d_11ec_a668_7066551679cerow1_col1\" class=\"data row1 col1\" >0.523928</td>\n",
       "                        <td id=\"T_bc4abe0a_0a3d_11ec_a668_7066551679cerow1_col2\" class=\"data row1 col2\" >0.540248</td>\n",
       "                        <td id=\"T_bc4abe0a_0a3d_11ec_a668_7066551679cerow1_col3\" class=\"data row1 col3\" >9633</td>\n",
       "            </tr>\n",
       "            <tr>\n",
       "                        <th id=\"T_bc4abe0a_0a3d_11ec_a668_7066551679celevel0_row2\" class=\"row_heading level0 row2\" >accuracy</th>\n",
       "                        <td id=\"T_bc4abe0a_0a3d_11ec_a668_7066551679cerow2_col0\" class=\"data row2 col0\" >0.720696</td>\n",
       "                        <td id=\"T_bc4abe0a_0a3d_11ec_a668_7066551679cerow2_col1\" class=\"data row2 col1\" >0.720696</td>\n",
       "                        <td id=\"T_bc4abe0a_0a3d_11ec_a668_7066551679cerow2_col2\" class=\"data row2 col2\" >0.720696</td>\n",
       "                        <td id=\"T_bc4abe0a_0a3d_11ec_a668_7066551679cerow2_col3\" class=\"data row2 col3\" >0</td>\n",
       "            </tr>\n",
       "            <tr>\n",
       "                        <th id=\"T_bc4abe0a_0a3d_11ec_a668_7066551679celevel0_row3\" class=\"row_heading level0 row3\" >macro avg</th>\n",
       "                        <td id=\"T_bc4abe0a_0a3d_11ec_a668_7066551679cerow3_col0\" class=\"data row3 col0\" >0.673160</td>\n",
       "                        <td id=\"T_bc4abe0a_0a3d_11ec_a668_7066551679cerow3_col1\" class=\"data row3 col1\" >0.667181</td>\n",
       "                        <td id=\"T_bc4abe0a_0a3d_11ec_a668_7066551679cerow3_col2\" class=\"data row3 col2\" >0.669835</td>\n",
       "                        <td id=\"T_bc4abe0a_0a3d_11ec_a668_7066551679cerow3_col3\" class=\"data row3 col3\" >30755</td>\n",
       "            </tr>\n",
       "            <tr>\n",
       "                        <th id=\"T_bc4abe0a_0a3d_11ec_a668_7066551679celevel0_row4\" class=\"row_heading level0 row4\" >weighted avg</th>\n",
       "                        <td id=\"T_bc4abe0a_0a3d_11ec_a668_7066551679cerow4_col0\" class=\"data row4 col0\" >0.716323</td>\n",
       "                        <td id=\"T_bc4abe0a_0a3d_11ec_a668_7066551679cerow4_col1\" class=\"data row4 col1\" >0.720696</td>\n",
       "                        <td id=\"T_bc4abe0a_0a3d_11ec_a668_7066551679cerow4_col2\" class=\"data row4 col2\" >0.718244</td>\n",
       "                        <td id=\"T_bc4abe0a_0a3d_11ec_a668_7066551679cerow4_col3\" class=\"data row4 col3\" >30755</td>\n",
       "            </tr>\n",
       "    </tbody></table>"
      ],
      "text/plain": [
       "<pandas.io.formats.style.Styler at 0x1ffffccda48>"
      ]
     },
     "execution_count": 48,
     "metadata": {},
     "output_type": "execute_result"
    }
   ],
   "source": [
    "test = pd.DataFrame(classification_report(y_test, y_pred, digits=2,output_dict=True)).T\n",
    "test['support'] = test.support.apply(int)\n",
    "test.style.background_gradient(cmap='viridis',\n",
    "                             subset=pd.IndexSlice['0':'9', :'f1-score'])"
   ]
  },
  {
   "cell_type": "markdown",
   "metadata": {},
   "source": [
    "Veo la Matriz de confusion"
   ]
  },
  {
   "cell_type": "code",
   "execution_count": 49,
   "metadata": {},
   "outputs": [
    {
     "data": {
      "text/plain": [
       "Text(33.0, 0.5, 'Reales')"
      ]
     },
     "execution_count": 49,
     "metadata": {},
     "output_type": "execute_result"
    },
    {
     "data": {
      "image/png": "[encoded data removed]",
      "text/plain": [
       "<Figure size 432x288 with 2 Axes>"
      ]
     },
     "metadata": {
      "needs_background": "light"
     },
     "output_type": "display_data"
    }
   ],
   "source": [
    "sns.heatmap(confusion_matrix(y_test, y_pred), annot=True, fmt='4d')\n",
    "plt.xlabel('Predichos')\n",
    "plt.ylabel('Reales')"
   ]
  },
  {
   "cell_type": "markdown",
   "metadata": {},
   "source": [
    "Miro el valor de la curva ROC y AUC"
   ]
  },
  {
   "cell_type": "code",
   "execution_count": 50,
   "metadata": {},
   "outputs": [
    {
     "name": "stdout",
     "output_type": "stream",
     "text": [
      "El valor del AUC es:  0.6671813907690924\n"
     ]
    }
   ],
   "source": [
    "from sklearn.metrics import roc_auc_score\n",
    "auc = roc_auc_score(y_test,grid_search.best_estimator_.predict(X_test),multi_class=\"ovr\")\n",
    "print(\"El valor del AUC es: \", auc)"
   ]
  },
  {
   "cell_type": "code",
   "execution_count": 51,
   "metadata": {},
   "outputs": [
    {
     "data": {
      "text/plain": [
       "<AxesSubplot:title={'center':'ROC Curves'}, xlabel='False Positive Rate', ylabel='True Positive Rate'>"
      ]
     },
     "execution_count": 51,
     "metadata": {},
     "output_type": "execute_result"
    },
    {
     "data": {
      "image/png": "[encoded data removed]",
      "text/plain": [
       "<Figure size 432x288 with 1 Axes>"
      ]
     },
     "metadata": {
      "needs_background": "light"
     },
     "output_type": "display_data"
    }
   ],
   "source": [
    "from scikitplot.metrics import plot_roc\n",
    "plot_roc(y_test,grid_search.best_estimator_.predict_proba(X_test),plot_micro=False, plot_macro=False,classes_to_plot=1)"
   ]
  },
  {
   "cell_type": "markdown",
   "metadata": {},
   "source": [
    "Aplicamos Arboles de Decision sobre el dataset"
   ]
  },
  {
   "cell_type": "code",
   "execution_count": 52,
   "metadata": {},
   "outputs": [],
   "source": [
    "from sklearn.tree import DecisionTreeClassifier\n",
    "from sklearn.ensemble import BaggingClassifier, RandomForestClassifier\n",
    "\n",
    "pipeline = Pipeline([('union', union), \n",
    "                     ('clasificador', DecisionTreeClassifier())])\n",
    "\n",
    "parameters = {'clasificador__criterion': ['gini', 'entropy'],\n",
    "          'clasificador__splitter': ['best', 'random'],\n",
    "          'clasificador__max_depth': [None, 5, 10],\n",
    "          'clasificador__min_samples_split': [2, 5],\n",
    "          'clasificador__min_samples_leaf': [1, 2, 3]}\n",
    "            \n",
    "    \n"
   ]
  },
  {
   "cell_type": "code",
   "execution_count": 53,
   "metadata": {},
   "outputs": [],
   "source": [
    "from sklearn.model_selection import StratifiedKFold\n",
    "\n",
    "folds=StratifiedKFold(n_splits=5,shuffle=True, random_state=42)\n",
    "\n",
    "grid_search = GridSearchCV (pipeline, parameters,cv=folds, n_jobs = 5)"
   ]
  },
  {
   "cell_type": "code",
   "execution_count": 54,
   "metadata": {},
   "outputs": [
    {
     "data": {
      "text/plain": [
       "GridSearchCV(cv=StratifiedKFold(n_splits=5, random_state=42, shuffle=True),\n",
       "             estimator=Pipeline(steps=[('union',\n",
       "                                        Pipeline(steps=[('standardscaler',\n",
       "                                                         StandardScaler())])),\n",
       "                                       ('clasificador',\n",
       "                                        DecisionTreeClassifier())]),\n",
       "             n_jobs=5,\n",
       "             param_grid={'clasificador__criterion': ['gini', 'entropy'],\n",
       "                         'clasificador__max_depth': [None, 5, 10],\n",
       "                         'clasificador__min_samples_leaf': [1, 2, 3],\n",
       "                         'clasificador__min_samples_split': [2, 5],\n",
       "                         'clasificador__splitter': ['best', 'random']})"
      ]
     },
     "execution_count": 54,
     "metadata": {},
     "output_type": "execute_result"
    }
   ],
   "source": [
    "grid_search.fit(pd.DataFrame(X_train_us, columns=X.columns), y_train_us)"
   ]
  },
  {
   "cell_type": "markdown",
   "metadata": {},
   "source": [
    "Miro el mejor score con los hiperparametros dados, y sus metricas principales"
   ]
  },
  {
   "cell_type": "code",
   "execution_count": 55,
   "metadata": {},
   "outputs": [
    {
     "name": "stdout",
     "output_type": "stream",
     "text": [
      "Best score: 0.670\n",
      "Best parameters set:\n",
      "\t clasificador__criterion: 'entropy'\n",
      "\t clasificador__max_depth: 5\n",
      "\t clasificador__min_samples_leaf: 1\n",
      "\t clasificador__min_samples_split: 2\n",
      "\t clasificador__splitter: 'best'\n"
     ]
    }
   ],
   "source": [
    "print(\"Best score: %0.3f\" % grid_search.best_score_) \n",
    "print(\"Best parameters set:\" )\n",
    "best_parameters = grid_search.best_estimator_.get_params()\n",
    "for param_name in sorted (parameters . keys()): \n",
    "                    print(\"\\t %s: %r\" % (param_name, best_parameters[param_name])) "
   ]
  },
  {
   "cell_type": "code",
   "execution_count": 56,
   "metadata": {},
   "outputs": [],
   "source": [
    "y_pred = grid_search.best_estimator_.predict(X_test)"
   ]
  },
  {
   "cell_type": "code",
   "execution_count": 57,
   "metadata": {},
   "outputs": [
    {
     "data": {
      "text/html": [
       "<style  type=\"text/css\" >\n",
       "    #T_7c433db4_0a41_11ec_a920_7066551679cerow0_col0 {\n",
       "            background-color:  #fde725;\n",
       "            color:  #000000;\n",
       "        }    #T_7c433db4_0a41_11ec_a920_7066551679cerow0_col1 {\n",
       "            background-color:  #440154;\n",
       "            color:  #f1f1f1;\n",
       "        }    #T_7c433db4_0a41_11ec_a920_7066551679cerow0_col2 {\n",
       "            background-color:  #fde725;\n",
       "            color:  #000000;\n",
       "        }    #T_7c433db4_0a41_11ec_a920_7066551679cerow1_col0 {\n",
       "            background-color:  #440154;\n",
       "            color:  #f1f1f1;\n",
       "        }    #T_7c433db4_0a41_11ec_a920_7066551679cerow1_col1 {\n",
       "            background-color:  #fde725;\n",
       "            color:  #000000;\n",
       "        }    #T_7c433db4_0a41_11ec_a920_7066551679cerow1_col2 {\n",
       "            background-color:  #440154;\n",
       "            color:  #f1f1f1;\n",
       "        }</style><table id=\"T_7c433db4_0a41_11ec_a920_7066551679ce\" ><thead>    <tr>        <th class=\"blank level0\" ></th>        <th class=\"col_heading level0 col0\" >precision</th>        <th class=\"col_heading level0 col1\" >recall</th>        <th class=\"col_heading level0 col2\" >f1-score</th>        <th class=\"col_heading level0 col3\" >support</th>    </tr></thead><tbody>\n",
       "                <tr>\n",
       "                        <th id=\"T_7c433db4_0a41_11ec_a920_7066551679celevel0_row0\" class=\"row_heading level0 row0\" >0</th>\n",
       "                        <td id=\"T_7c433db4_0a41_11ec_a920_7066551679cerow0_col0\" class=\"data row0 col0\" >0.821887</td>\n",
       "                        <td id=\"T_7c433db4_0a41_11ec_a920_7066551679cerow0_col1\" class=\"data row0 col1\" >0.664568</td>\n",
       "                        <td id=\"T_7c433db4_0a41_11ec_a920_7066551679cerow0_col2\" class=\"data row0 col2\" >0.734902</td>\n",
       "                        <td id=\"T_7c433db4_0a41_11ec_a920_7066551679cerow0_col3\" class=\"data row0 col3\" >21122</td>\n",
       "            </tr>\n",
       "            <tr>\n",
       "                        <th id=\"T_7c433db4_0a41_11ec_a920_7066551679celevel0_row1\" class=\"row_heading level0 row1\" >1</th>\n",
       "                        <td id=\"T_7c433db4_0a41_11ec_a920_7066551679cerow1_col0\" class=\"data row1 col0\" >0.481939</td>\n",
       "                        <td id=\"T_7c433db4_0a41_11ec_a920_7066551679cerow1_col1\" class=\"data row1 col1\" >0.684211</td>\n",
       "                        <td id=\"T_7c433db4_0a41_11ec_a920_7066551679cerow1_col2\" class=\"data row1 col2\" >0.565533</td>\n",
       "                        <td id=\"T_7c433db4_0a41_11ec_a920_7066551679cerow1_col3\" class=\"data row1 col3\" >9633</td>\n",
       "            </tr>\n",
       "            <tr>\n",
       "                        <th id=\"T_7c433db4_0a41_11ec_a920_7066551679celevel0_row2\" class=\"row_heading level0 row2\" >accuracy</th>\n",
       "                        <td id=\"T_7c433db4_0a41_11ec_a920_7066551679cerow2_col0\" class=\"data row2 col0\" >0.670720</td>\n",
       "                        <td id=\"T_7c433db4_0a41_11ec_a920_7066551679cerow2_col1\" class=\"data row2 col1\" >0.670720</td>\n",
       "                        <td id=\"T_7c433db4_0a41_11ec_a920_7066551679cerow2_col2\" class=\"data row2 col2\" >0.670720</td>\n",
       "                        <td id=\"T_7c433db4_0a41_11ec_a920_7066551679cerow2_col3\" class=\"data row2 col3\" >0</td>\n",
       "            </tr>\n",
       "            <tr>\n",
       "                        <th id=\"T_7c433db4_0a41_11ec_a920_7066551679celevel0_row3\" class=\"row_heading level0 row3\" >macro avg</th>\n",
       "                        <td id=\"T_7c433db4_0a41_11ec_a920_7066551679cerow3_col0\" class=\"data row3 col0\" >0.651913</td>\n",
       "                        <td id=\"T_7c433db4_0a41_11ec_a920_7066551679cerow3_col1\" class=\"data row3 col1\" >0.674389</td>\n",
       "                        <td id=\"T_7c433db4_0a41_11ec_a920_7066551679cerow3_col2\" class=\"data row3 col2\" >0.650217</td>\n",
       "                        <td id=\"T_7c433db4_0a41_11ec_a920_7066551679cerow3_col3\" class=\"data row3 col3\" >30755</td>\n",
       "            </tr>\n",
       "            <tr>\n",
       "                        <th id=\"T_7c433db4_0a41_11ec_a920_7066551679celevel0_row4\" class=\"row_heading level0 row4\" >weighted avg</th>\n",
       "                        <td id=\"T_7c433db4_0a41_11ec_a920_7066551679cerow4_col0\" class=\"data row4 col0\" >0.715409</td>\n",
       "                        <td id=\"T_7c433db4_0a41_11ec_a920_7066551679cerow4_col1\" class=\"data row4 col1\" >0.670720</td>\n",
       "                        <td id=\"T_7c433db4_0a41_11ec_a920_7066551679cerow4_col2\" class=\"data row4 col2\" >0.681853</td>\n",
       "                        <td id=\"T_7c433db4_0a41_11ec_a920_7066551679cerow4_col3\" class=\"data row4 col3\" >30755</td>\n",
       "            </tr>\n",
       "    </tbody></table>"
      ],
      "text/plain": [
       "<pandas.io.formats.style.Styler at 0x1fff1f4ae08>"
      ]
     },
     "execution_count": 57,
     "metadata": {},
     "output_type": "execute_result"
    }
   ],
   "source": [
    "test = pd.DataFrame(classification_report(y_test, y_pred, digits=2,output_dict=True)).T\n",
    "test['support'] = test.support.apply(int)\n",
    "test.style.background_gradient(cmap='viridis',\n",
    "                             subset=pd.IndexSlice['0':'9', :'f1-score'])"
   ]
  },
  {
   "cell_type": "markdown",
   "metadata": {},
   "source": [
    "Genero Matriz de confusion"
   ]
  },
  {
   "cell_type": "code",
   "execution_count": 58,
   "metadata": {},
   "outputs": [
    {
     "data": {
      "text/plain": [
       "Text(33.0, 0.5, 'Reales')"
      ]
     },
     "execution_count": 58,
     "metadata": {},
     "output_type": "execute_result"
    },
    {
     "data": {
      "image/png": "[encoded data removed]",
      "text/plain": [
       "<Figure size 432x288 with 2 Axes>"
      ]
     },
     "metadata": {
      "needs_background": "light"
     },
     "output_type": "display_data"
    }
   ],
   "source": [
    "sns.heatmap(confusion_matrix(y_test, y_pred), annot=True, fmt='4d')\n",
    "plt.xlabel('Predichos')\n",
    "plt.ylabel('Reales')"
   ]
  },
  {
   "cell_type": "markdown",
   "metadata": {},
   "source": [
    "Miro valor de curva ROC y AUC"
   ]
  },
  {
   "cell_type": "code",
   "execution_count": 59,
   "metadata": {},
   "outputs": [
    {
     "name": "stdout",
     "output_type": "stream",
     "text": [
      "El valor del AUC es:  0.6743891377909786\n"
     ]
    }
   ],
   "source": [
    "from sklearn.metrics import roc_auc_score\n",
    "auc = roc_auc_score(y_test,grid_search.best_estimator_.predict(X_test),multi_class=\"ovr\")\n",
    "print(\"El valor del AUC es: \", auc)"
   ]
  },
  {
   "cell_type": "code",
   "execution_count": 60,
   "metadata": {},
   "outputs": [
    {
     "data": {
      "text/plain": [
       "<AxesSubplot:title={'center':'ROC Curves'}, xlabel='False Positive Rate', ylabel='True Positive Rate'>"
      ]
     },
     "execution_count": 60,
     "metadata": {},
     "output_type": "execute_result"
    },
    {
     "data": {
      "image/png": "[encoded data removed]",
      "text/plain": [
       "<Figure size 432x288 with 1 Axes>"
      ]
     },
     "metadata": {
      "needs_background": "light"
     },
     "output_type": "display_data"
    }
   ],
   "source": [
    "from scikitplot.metrics import plot_roc\n",
    "plot_roc(y_test,grid_search.best_estimator_.predict_proba(X_test),plot_micro=False, plot_macro=False,classes_to_plot=1)"
   ]
  },
  {
   "cell_type": "markdown",
   "metadata": {},
   "source": [
    "Aplicamos Random Forest al dataset"
   ]
  },
  {
   "cell_type": "code",
   "execution_count": 61,
   "metadata": {},
   "outputs": [],
   "source": [
    "pipeline = Pipeline([('union', union), \n",
    "                     ('clasificador',RandomForestClassifier())])\n",
    "\n",
    "parameters = {'clasificador__n_estimators':[3, 5, 10, 50],\n",
    "          'clasificador__criterion': ['gini', 'entropy'],\n",
    "          'clasificador__max_depth': [None, 3, 5],\n",
    "          'clasificador__min_samples_split': [2,5],\n",
    "          'clasificador__class_weight':[None, 'balanced']}\n",
    "\n",
    "\n",
    "                    "
   ]
  },
  {
   "cell_type": "code",
   "execution_count": 62,
   "metadata": {},
   "outputs": [],
   "source": [
    "from sklearn.model_selection import StratifiedKFold\n",
    "\n",
    "folds=StratifiedKFold(n_splits=5,shuffle=True, random_state=42)\n",
    "grid_search = GridSearchCV (pipeline, parameters,cv=folds, n_jobs = 5)"
   ]
  },
  {
   "cell_type": "code",
   "execution_count": 63,
   "metadata": {},
   "outputs": [
    {
     "data": {
      "text/plain": [
       "GridSearchCV(cv=StratifiedKFold(n_splits=5, random_state=42, shuffle=True),\n",
       "             estimator=Pipeline(steps=[('union',\n",
       "                                        Pipeline(steps=[('standardscaler',\n",
       "                                                         StandardScaler())])),\n",
       "                                       ('clasificador',\n",
       "                                        RandomForestClassifier())]),\n",
       "             n_jobs=5,\n",
       "             param_grid={'clasificador__class_weight': [None, 'balanced'],\n",
       "                         'clasificador__criterion': ['gini', 'entropy'],\n",
       "                         'clasificador__max_depth': [None, 3, 5],\n",
       "                         'clasificador__min_samples_split': [2, 5],\n",
       "                         'clasificador__n_estimators': [3, 5, 10, 50]})"
      ]
     },
     "execution_count": 63,
     "metadata": {},
     "output_type": "execute_result"
    }
   ],
   "source": [
    "grid_search.fit(pd.DataFrame(X_train_us, columns=X.columns), y_train_us)"
   ]
  },
  {
   "cell_type": "markdown",
   "metadata": {},
   "source": [
    "Miro el mejor score con los hiperparametros dados, y sus metricas principales"
   ]
  },
  {
   "cell_type": "code",
   "execution_count": 64,
   "metadata": {},
   "outputs": [
    {
     "name": "stdout",
     "output_type": "stream",
     "text": [
      "Best score: 0.701\n",
      "Best parameters set:\n",
      "\t clasificador__class_weight: 'balanced'\n",
      "\t clasificador__criterion: 'entropy'\n",
      "\t clasificador__max_depth: None\n",
      "\t clasificador__min_samples_split: 5\n",
      "\t clasificador__n_estimators: 50\n"
     ]
    }
   ],
   "source": [
    "print(\"Best score: %0.3f\" % grid_search.best_score_) \n",
    "print(\"Best parameters set:\" )\n",
    "best_parameters = grid_search.best_estimator_.get_params()\n",
    "for param_name in sorted (parameters . keys()): \n",
    "                    print(\"\\t %s: %r\" % (param_name, best_parameters[param_name])) "
   ]
  },
  {
   "cell_type": "code",
   "execution_count": 65,
   "metadata": {},
   "outputs": [],
   "source": [
    "y_pred = grid_search.best_estimator_.predict(X_test)"
   ]
  },
  {
   "cell_type": "code",
   "execution_count": 66,
   "metadata": {},
   "outputs": [
    {
     "data": {
      "text/html": [
       "<style  type=\"text/css\" >\n",
       "    #T_3b192842_0a42_11ec_8119_7066551679cerow0_col0 {\n",
       "            background-color:  #fde725;\n",
       "            color:  #000000;\n",
       "        }    #T_3b192842_0a42_11ec_8119_7066551679cerow0_col1 {\n",
       "            background-color:  #440154;\n",
       "            color:  #f1f1f1;\n",
       "        }    #T_3b192842_0a42_11ec_8119_7066551679cerow0_col2 {\n",
       "            background-color:  #fde725;\n",
       "            color:  #000000;\n",
       "        }    #T_3b192842_0a42_11ec_8119_7066551679cerow1_col0 {\n",
       "            background-color:  #440154;\n",
       "            color:  #f1f1f1;\n",
       "        }    #T_3b192842_0a42_11ec_8119_7066551679cerow1_col1 {\n",
       "            background-color:  #fde725;\n",
       "            color:  #000000;\n",
       "        }    #T_3b192842_0a42_11ec_8119_7066551679cerow1_col2 {\n",
       "            background-color:  #440154;\n",
       "            color:  #f1f1f1;\n",
       "        }</style><table id=\"T_3b192842_0a42_11ec_8119_7066551679ce\" ><thead>    <tr>        <th class=\"blank level0\" ></th>        <th class=\"col_heading level0 col0\" >precision</th>        <th class=\"col_heading level0 col1\" >recall</th>        <th class=\"col_heading level0 col2\" >f1-score</th>        <th class=\"col_heading level0 col3\" >support</th>    </tr></thead><tbody>\n",
       "                <tr>\n",
       "                        <th id=\"T_3b192842_0a42_11ec_8119_7066551679celevel0_row0\" class=\"row_heading level0 row0\" >0</th>\n",
       "                        <td id=\"T_3b192842_0a42_11ec_8119_7066551679cerow0_col0\" class=\"data row0 col0\" >0.843857</td>\n",
       "                        <td id=\"T_3b192842_0a42_11ec_8119_7066551679cerow0_col1\" class=\"data row0 col1\" >0.679576</td>\n",
       "                        <td id=\"T_3b192842_0a42_11ec_8119_7066551679cerow0_col2\" class=\"data row0 col2\" >0.752858</td>\n",
       "                        <td id=\"T_3b192842_0a42_11ec_8119_7066551679cerow0_col3\" class=\"data row0 col3\" >21122</td>\n",
       "            </tr>\n",
       "            <tr>\n",
       "                        <th id=\"T_3b192842_0a42_11ec_8119_7066551679celevel0_row1\" class=\"row_heading level0 row1\" >1</th>\n",
       "                        <td id=\"T_3b192842_0a42_11ec_8119_7066551679cerow1_col0\" class=\"data row1 col0\" >0.507603</td>\n",
       "                        <td id=\"T_3b192842_0a42_11ec_8119_7066551679cerow1_col1\" class=\"data row1 col1\" >0.724281</td>\n",
       "                        <td id=\"T_3b192842_0a42_11ec_8119_7066551679cerow1_col2\" class=\"data row1 col2\" >0.596886</td>\n",
       "                        <td id=\"T_3b192842_0a42_11ec_8119_7066551679cerow1_col3\" class=\"data row1 col3\" >9633</td>\n",
       "            </tr>\n",
       "            <tr>\n",
       "                        <th id=\"T_3b192842_0a42_11ec_8119_7066551679celevel0_row2\" class=\"row_heading level0 row2\" >accuracy</th>\n",
       "                        <td id=\"T_3b192842_0a42_11ec_8119_7066551679cerow2_col0\" class=\"data row2 col0\" >0.693578</td>\n",
       "                        <td id=\"T_3b192842_0a42_11ec_8119_7066551679cerow2_col1\" class=\"data row2 col1\" >0.693578</td>\n",
       "                        <td id=\"T_3b192842_0a42_11ec_8119_7066551679cerow2_col2\" class=\"data row2 col2\" >0.693578</td>\n",
       "                        <td id=\"T_3b192842_0a42_11ec_8119_7066551679cerow2_col3\" class=\"data row2 col3\" >0</td>\n",
       "            </tr>\n",
       "            <tr>\n",
       "                        <th id=\"T_3b192842_0a42_11ec_8119_7066551679celevel0_row3\" class=\"row_heading level0 row3\" >macro avg</th>\n",
       "                        <td id=\"T_3b192842_0a42_11ec_8119_7066551679cerow3_col0\" class=\"data row3 col0\" >0.675730</td>\n",
       "                        <td id=\"T_3b192842_0a42_11ec_8119_7066551679cerow3_col1\" class=\"data row3 col1\" >0.701928</td>\n",
       "                        <td id=\"T_3b192842_0a42_11ec_8119_7066551679cerow3_col2\" class=\"data row3 col2\" >0.674872</td>\n",
       "                        <td id=\"T_3b192842_0a42_11ec_8119_7066551679cerow3_col3\" class=\"data row3 col3\" >30755</td>\n",
       "            </tr>\n",
       "            <tr>\n",
       "                        <th id=\"T_3b192842_0a42_11ec_8119_7066551679celevel0_row4\" class=\"row_heading level0 row4\" >weighted avg</th>\n",
       "                        <td id=\"T_3b192842_0a42_11ec_8119_7066551679cerow4_col0\" class=\"data row4 col0\" >0.738536</td>\n",
       "                        <td id=\"T_3b192842_0a42_11ec_8119_7066551679cerow4_col1\" class=\"data row4 col1\" >0.693578</td>\n",
       "                        <td id=\"T_3b192842_0a42_11ec_8119_7066551679cerow4_col2\" class=\"data row4 col2\" >0.704005</td>\n",
       "                        <td id=\"T_3b192842_0a42_11ec_8119_7066551679cerow4_col3\" class=\"data row4 col3\" >30755</td>\n",
       "            </tr>\n",
       "    </tbody></table>"
      ],
      "text/plain": [
       "<pandas.io.formats.style.Styler at 0x1ffd5b74648>"
      ]
     },
     "execution_count": 66,
     "metadata": {},
     "output_type": "execute_result"
    }
   ],
   "source": [
    "test = pd.DataFrame(classification_report(y_test, y_pred, digits=2,output_dict=True)).T\n",
    "test['support'] = test.support.apply(int)\n",
    "test.style.background_gradient(cmap='viridis',\n",
    "                             subset=pd.IndexSlice['0':'9', :'f1-score'])"
   ]
  },
  {
   "cell_type": "markdown",
   "metadata": {},
   "source": [
    "Armo matriz de confusion"
   ]
  },
  {
   "cell_type": "code",
   "execution_count": 67,
   "metadata": {},
   "outputs": [
    {
     "data": {
      "text/plain": [
       "Text(33.0, 0.5, 'Reales')"
      ]
     },
     "execution_count": 67,
     "metadata": {},
     "output_type": "execute_result"
    },
    {
     "data": {
      "image/png": "[encoded data removed]",
      "text/plain": [
       "<Figure size 432x288 with 2 Axes>"
      ]
     },
     "metadata": {
      "needs_background": "light"
     },
     "output_type": "display_data"
    }
   ],
   "source": [
    "sns.heatmap(confusion_matrix(y_test, y_pred), annot=True, fmt='4d')\n",
    "plt.xlabel('Predichos')\n",
    "plt.ylabel('Reales')"
   ]
  },
  {
   "cell_type": "code",
   "execution_count": 68,
   "metadata": {},
   "outputs": [
    {
     "data": {
      "text/plain": [
       "Pipeline(steps=[('union',\n",
       "                 Pipeline(steps=[('standardscaler', StandardScaler())])),\n",
       "                ('clasificador',\n",
       "                 RandomForestClassifier(class_weight='balanced',\n",
       "                                        criterion='entropy',\n",
       "                                        min_samples_split=5,\n",
       "                                        n_estimators=50))])"
      ]
     },
     "execution_count": 68,
     "metadata": {},
     "output_type": "execute_result"
    }
   ],
   "source": [
    "feature_names = grid_search.best_estimator_\n",
    "feature_names"
   ]
  },
  {
   "cell_type": "markdown",
   "metadata": {},
   "source": [
    "Miro Curva ROC y AUC"
   ]
  },
  {
   "cell_type": "code",
   "execution_count": 69,
   "metadata": {},
   "outputs": [
    {
     "name": "stdout",
     "output_type": "stream",
     "text": [
      "El valor del AUC es:  0.7019284573700466\n"
     ]
    }
   ],
   "source": [
    "from sklearn.metrics import roc_auc_score\n",
    "auc = roc_auc_score(y_test,grid_search.best_estimator_.predict(X_test),multi_class=\"ovr\")\n",
    "print(\"El valor del AUC es: \", auc)"
   ]
  },
  {
   "cell_type": "code",
   "execution_count": 70,
   "metadata": {},
   "outputs": [
    {
     "data": {
      "text/plain": [
       "<AxesSubplot:title={'center':'ROC Curves'}, xlabel='False Positive Rate', ylabel='True Positive Rate'>"
      ]
     },
     "execution_count": 70,
     "metadata": {},
     "output_type": "execute_result"
    },
    {
     "data": {
      "image/png": "[encoded data removed]",
      "text/plain": [
       "<Figure size 432x288 with 1 Axes>"
      ]
     },
     "metadata": {
      "needs_background": "light"
     },
     "output_type": "display_data"
    }
   ],
   "source": [
    "from scikitplot.metrics import plot_roc\n",
    "plot_roc(y_test,grid_search.best_estimator_.predict_proba(X_test),plot_micro=False, plot_macro=False,classes_to_plot=1)"
   ]
  },
  {
   "cell_type": "markdown",
   "metadata": {},
   "source": [
    "Aplicamos algoritmo Lightgbm al dataset"
   ]
  },
  {
   "cell_type": "code",
   "execution_count": 26,
   "metadata": {},
   "outputs": [
    {
     "data": {
      "text/plain": [
       "\"parameters = {'clasificador__n_estimators':[3, 5, 10, 50,100,500],\\n          'clasificador__max_depth': [None,1,2,3,4],\\n          'clasificador__learning_rate': [0.01, 0.1]}\\n\""
      ]
     },
     "execution_count": 26,
     "metadata": {},
     "output_type": "execute_result"
    }
   ],
   "source": [
    "pipeline = Pipeline([('union', union), \n",
    "                     ('clasificador',lgb.LGBMClassifier())])\n",
    "\n",
    "'''parameters = {'clasificador__n_estimators':[3, 5, 10, 50,100,500],\n",
    "          'clasificador__max_depth': [None,1,2,3,4],\n",
    "          'clasificador__learning_rate': [0.01, 0.1]}\n",
    "'''"
   ]
  },
  {
   "cell_type": "code",
   "execution_count": 37,
   "metadata": {},
   "outputs": [],
   "source": [
    "\n",
    "\n",
    "parameters2={'clasificador__early_stopping_rounds': 100,\n",
    "            'clasificador__eval_metric' : 'auc', \n",
    "            'clasificador__eval_set' : [(pd.DataFrame(X_test, columns=X.columns), y_test)],\n",
    "            'clasificador__eval_names': ['valid'],\n",
    "            'clasificador__verbose': -1,\n",
    "            'clasificador__categorical_feature': 'auto'}\n",
    "\n",
    "parameters ={\n",
    "             'clasificador__max_depth': sp_randint(2,60),\n",
    "             'clasificador__num_leaves': sp_randint(10, 300), \n",
    "             'clasificador__learning_rate ': [1e-3, 1e-2, 1e-1, 0.2, 0.3, 0.4, 0.5],\n",
    "             'clasificador__min_child_samples': sp_randint(100, 500), \n",
    "             'clasificador__min_child_weight': [1e-5, 1e-3, 1e-2, 1e-1, 1, 1e1, 1e2, 1e3, 1e4],\n",
    "             'clasificador__subsample': sp_uniform(loc=0.2, scale=0.8), \n",
    "             'clasificador__colsample_bytree': sp_uniform(loc=0.4, scale=0.6),\n",
    "             'clasificador__reg_alpha': [0, 1e-1, 1, 2, 3, 4, 5, 7, 10, 50, 100],\n",
    "             'clasificador__reg_lambda': [0, 1e-1, 1, 4, 5, 6, 7, 10, 20, 50, 100]}"
   ]
  },
  {
   "cell_type": "code",
   "execution_count": 38,
   "metadata": {},
   "outputs": [],
   "source": [
    "from sklearn.model_selection import StratifiedKFold\n",
    "\n",
    "folds=StratifiedKFold(n_splits=5,shuffle=True, random_state=42)\n",
    "grid_search = RandomizedSearchCV (estimator=pipeline, param_distributions=parameters,cv=folds,refit=True, n_jobs = 5, verbose=False, n_iter=100, scoring='roc_auc')"
   ]
  },
  {
   "cell_type": "code",
   "execution_count": 39,
   "metadata": {},
   "outputs": [
    {
     "name": "stdout",
     "output_type": "stream",
     "text": [
      "[LightGBM] [Warning] learning_rate is set=0.1, learning_rate= will be ignored. Current value: learning_rate=0.1\n",
      "[LightGBM] [Warning] Unknown parameter: 0.1\n",
      "Training until validation scores don't improve for 100 rounds\n",
      "Did not meet early stopping. Best iteration is:\n",
      "[100]\tvalid's auc: 0.794659\tvalid's binary_logloss: 0.551028\n"
     ]
    },
    {
     "data": {
      "text/plain": [
       "RandomizedSearchCV(cv=StratifiedKFold(n_splits=5, random_state=42, shuffle=True),\n",
       "                   estimator=Pipeline(steps=[('union',\n",
       "                                              Pipeline(steps=[('standardscaler',\n",
       "                                                               StandardScaler())])),\n",
       "                                             ('clasificador',\n",
       "                                              LGBMClassifier())]),\n",
       "                   n_iter=100, n_jobs=5,\n",
       "                   param_distributions={'clasificador__colsample_bytree': <scipy.stats._distn_infrastructure.rv_frozen object at 0x0000029639CF1BC8>...\n",
       "                                                                           10000.0],\n",
       "                                        'clasificador__num_leaves': <scipy.stats._distn_infrastructure.rv_frozen object at 0x00000296253C2288>,\n",
       "                                        'clasificador__reg_alpha': [0, 0.1, 1,\n",
       "                                                                    2, 3, 4, 5,\n",
       "                                                                    7, 10, 50,\n",
       "                                                                    100],\n",
       "                                        'clasificador__reg_lambda': [0, 0.1, 1,\n",
       "                                                                     4, 5, 6, 7,\n",
       "                                                                     10, 20, 50,\n",
       "                                                                     100],\n",
       "                                        'clasificador__subsample': <scipy.stats._distn_infrastructure.rv_frozen object at 0x000002962542A988>},\n",
       "                   scoring='roc_auc', verbose=False)"
      ]
     },
     "execution_count": 39,
     "metadata": {},
     "output_type": "execute_result"
    }
   ],
   "source": [
    "grid_search.fit(pd.DataFrame(X_train_us, columns=X.columns), y_train_us, **parameters2)"
   ]
  },
  {
   "cell_type": "markdown",
   "metadata": {},
   "source": [
    "Miro el mejor score con los hiperparametros dados, y sus metricas principales"
   ]
  },
  {
   "cell_type": "code",
   "execution_count": 40,
   "metadata": {},
   "outputs": [
    {
     "name": "stdout",
     "output_type": "stream",
     "text": [
      "Best score: 0.789\n",
      "Best parameters set:\n",
      "\t clasificador__colsample_bytree: 0.4023458889946039\n",
      "\t clasificador__learning_rate : 0.1\n",
      "\t clasificador__max_depth: 14\n",
      "\t clasificador__min_child_samples: 462\n",
      "\t clasificador__min_child_weight: 10.0\n",
      "\t clasificador__num_leaves: 190\n",
      "\t clasificador__reg_alpha: 5\n",
      "\t clasificador__reg_lambda: 1\n",
      "\t clasificador__subsample: 0.3684006861229399\n"
     ]
    }
   ],
   "source": [
    "print(\"Best score: %0.3f\" % grid_search.best_score_) \n",
    "print(\"Best parameters set:\" )\n",
    "best_parameters = grid_search.best_estimator_.get_params()\n",
    "for param_name in sorted (parameters . keys()): \n",
    "                    print(\"\\t %s: %r\" % (param_name, best_parameters[param_name])) "
   ]
  },
  {
   "cell_type": "code",
   "execution_count": 41,
   "metadata": {},
   "outputs": [],
   "source": [
    "y_pred = grid_search.best_estimator_.predict(X_test)"
   ]
  },
  {
   "cell_type": "code",
   "execution_count": 42,
   "metadata": {},
   "outputs": [
    {
     "data": {
      "text/html": [
       "<style  type=\"text/css\" >\n",
       "    #T_1515939a_132c_11ec_86a3_7066551679cfrow0_col0 {\n",
       "            background-color:  #fde725;\n",
       "            color:  #000000;\n",
       "        }    #T_1515939a_132c_11ec_86a3_7066551679cfrow0_col1 {\n",
       "            background-color:  #440154;\n",
       "            color:  #f1f1f1;\n",
       "        }    #T_1515939a_132c_11ec_86a3_7066551679cfrow0_col2 {\n",
       "            background-color:  #fde725;\n",
       "            color:  #000000;\n",
       "        }    #T_1515939a_132c_11ec_86a3_7066551679cfrow1_col0 {\n",
       "            background-color:  #440154;\n",
       "            color:  #f1f1f1;\n",
       "        }    #T_1515939a_132c_11ec_86a3_7066551679cfrow1_col1 {\n",
       "            background-color:  #fde725;\n",
       "            color:  #000000;\n",
       "        }    #T_1515939a_132c_11ec_86a3_7066551679cfrow1_col2 {\n",
       "            background-color:  #440154;\n",
       "            color:  #f1f1f1;\n",
       "        }</style><table id=\"T_1515939a_132c_11ec_86a3_7066551679cf\" ><thead>    <tr>        <th class=\"blank level0\" ></th>        <th class=\"col_heading level0 col0\" >precision</th>        <th class=\"col_heading level0 col1\" >recall</th>        <th class=\"col_heading level0 col2\" >f1-score</th>        <th class=\"col_heading level0 col3\" >support</th>    </tr></thead><tbody>\n",
       "                <tr>\n",
       "                        <th id=\"T_1515939a_132c_11ec_86a3_7066551679cflevel0_row0\" class=\"row_heading level0 row0\" >0</th>\n",
       "                        <td id=\"T_1515939a_132c_11ec_86a3_7066551679cfrow0_col0\" class=\"data row0 col0\" >0.856919</td>\n",
       "                        <td id=\"T_1515939a_132c_11ec_86a3_7066551679cfrow0_col1\" class=\"data row0 col1\" >0.698939</td>\n",
       "                        <td id=\"T_1515939a_132c_11ec_86a3_7066551679cfrow0_col2\" class=\"data row0 col2\" >0.769909</td>\n",
       "                        <td id=\"T_1515939a_132c_11ec_86a3_7066551679cfrow0_col3\" class=\"data row0 col3\" >21122</td>\n",
       "            </tr>\n",
       "            <tr>\n",
       "                        <th id=\"T_1515939a_132c_11ec_86a3_7066551679cflevel0_row1\" class=\"row_heading level0 row1\" >1</th>\n",
       "                        <td id=\"T_1515939a_132c_11ec_86a3_7066551679cfrow1_col0\" class=\"data row1 col0\" >0.529903</td>\n",
       "                        <td id=\"T_1515939a_132c_11ec_86a3_7066551679cfrow1_col1\" class=\"data row1 col1\" >0.744109</td>\n",
       "                        <td id=\"T_1515939a_132c_11ec_86a3_7066551679cfrow1_col2\" class=\"data row1 col2\" >0.618998</td>\n",
       "                        <td id=\"T_1515939a_132c_11ec_86a3_7066551679cfrow1_col3\" class=\"data row1 col3\" >9633</td>\n",
       "            </tr>\n",
       "            <tr>\n",
       "                        <th id=\"T_1515939a_132c_11ec_86a3_7066551679cflevel0_row2\" class=\"row_heading level0 row2\" >accuracy</th>\n",
       "                        <td id=\"T_1515939a_132c_11ec_86a3_7066551679cfrow2_col0\" class=\"data row2 col0\" >0.713087</td>\n",
       "                        <td id=\"T_1515939a_132c_11ec_86a3_7066551679cfrow2_col1\" class=\"data row2 col1\" >0.713087</td>\n",
       "                        <td id=\"T_1515939a_132c_11ec_86a3_7066551679cfrow2_col2\" class=\"data row2 col2\" >0.713087</td>\n",
       "                        <td id=\"T_1515939a_132c_11ec_86a3_7066551679cfrow2_col3\" class=\"data row2 col3\" >0</td>\n",
       "            </tr>\n",
       "            <tr>\n",
       "                        <th id=\"T_1515939a_132c_11ec_86a3_7066551679cflevel0_row3\" class=\"row_heading level0 row3\" >macro avg</th>\n",
       "                        <td id=\"T_1515939a_132c_11ec_86a3_7066551679cfrow3_col0\" class=\"data row3 col0\" >0.693411</td>\n",
       "                        <td id=\"T_1515939a_132c_11ec_86a3_7066551679cfrow3_col1\" class=\"data row3 col1\" >0.721524</td>\n",
       "                        <td id=\"T_1515939a_132c_11ec_86a3_7066551679cfrow3_col2\" class=\"data row3 col2\" >0.694454</td>\n",
       "                        <td id=\"T_1515939a_132c_11ec_86a3_7066551679cfrow3_col3\" class=\"data row3 col3\" >30755</td>\n",
       "            </tr>\n",
       "            <tr>\n",
       "                        <th id=\"T_1515939a_132c_11ec_86a3_7066551679cflevel0_row4\" class=\"row_heading level0 row4\" >weighted avg</th>\n",
       "                        <td id=\"T_1515939a_132c_11ec_86a3_7066551679cfrow4_col0\" class=\"data row4 col0\" >0.754492</td>\n",
       "                        <td id=\"T_1515939a_132c_11ec_86a3_7066551679cfrow4_col1\" class=\"data row4 col1\" >0.713087</td>\n",
       "                        <td id=\"T_1515939a_132c_11ec_86a3_7066551679cfrow4_col2\" class=\"data row4 col2\" >0.722641</td>\n",
       "                        <td id=\"T_1515939a_132c_11ec_86a3_7066551679cfrow4_col3\" class=\"data row4 col3\" >30755</td>\n",
       "            </tr>\n",
       "    </tbody></table>"
      ],
      "text/plain": [
       "<pandas.io.formats.style.Styler at 0x29636a1a988>"
      ]
     },
     "execution_count": 42,
     "metadata": {},
     "output_type": "execute_result"
    }
   ],
   "source": [
    "test = pd.DataFrame(classification_report(y_test, y_pred, digits=2,output_dict=True)).T\n",
    "test['support'] = test.support.apply(int)\n",
    "test.style.background_gradient(cmap='viridis',\n",
    "                             subset=pd.IndexSlice['0':'9', :'f1-score'])"
   ]
  },
  {
   "cell_type": "markdown",
   "metadata": {},
   "source": [
    "Armo matriz de confusion"
   ]
  },
  {
   "cell_type": "code",
   "execution_count": 33,
   "metadata": {},
   "outputs": [
    {
     "data": {
      "text/plain": [
       "Text(33.0, 0.5, 'Reales')"
      ]
     },
     "execution_count": 33,
     "metadata": {},
     "output_type": "execute_result"
    },
    {
     "data": {
      "image/png": "[encoded data removed]",
      "text/plain": [
       "<Figure size 432x288 with 2 Axes>"
      ]
     },
     "metadata": {
      "needs_background": "light"
     },
     "output_type": "display_data"
    }
   ],
   "source": [
    "sns.heatmap(confusion_matrix(y_test, y_pred), annot=True, fmt='4d')\n",
    "plt.xlabel('Predichos')\n",
    "plt.ylabel('Reales')"
   ]
  },
  {
   "cell_type": "code",
   "execution_count": 34,
   "metadata": {},
   "outputs": [
    {
     "data": {
      "text/plain": [
       "Pipeline(steps=[('union',\n",
       "                 Pipeline(steps=[('standardscaler', StandardScaler())])),\n",
       "                ('clasificador',\n",
       "                 LGBMClassifier(colsample_bytree=0.40808111025918115,\n",
       "                                learning_rate =0.2, max_depth=20,\n",
       "                                min_child_samples=492, min_child_weight=100.0,\n",
       "                                num_leaves=70, reg_alpha=2, reg_lambda=7,\n",
       "                                subsample=0.287440184102909))])"
      ]
     },
     "execution_count": 34,
     "metadata": {},
     "output_type": "execute_result"
    }
   ],
   "source": [
    "feature_names = grid_search.best_estimator_\n",
    "feature_names"
   ]
  },
  {
   "cell_type": "markdown",
   "metadata": {},
   "source": [
    "Veo valores de curva ROC y AUC"
   ]
  },
  {
   "cell_type": "code",
   "execution_count": 43,
   "metadata": {},
   "outputs": [
    {
     "name": "stdout",
     "output_type": "stream",
     "text": [
      "El valor del AUC es:  0.7215241435289262\n"
     ]
    }
   ],
   "source": [
    "from sklearn.metrics import roc_auc_score\n",
    "auc = roc_auc_score(y_test,grid_search.best_estimator_.predict(X_test),multi_class=\"ovr\")\n",
    "print(\"El valor del AUC es: \", auc)"
   ]
  },
  {
   "cell_type": "code",
   "execution_count": 44,
   "metadata": {},
   "outputs": [
    {
     "data": {
      "text/plain": [
       "<AxesSubplot:title={'center':'ROC Curves'}, xlabel='False Positive Rate', ylabel='True Positive Rate'>"
      ]
     },
     "execution_count": 44,
     "metadata": {},
     "output_type": "execute_result"
    },
    {
     "data": {
      "image/png": "[encoded data removed]",
      "text/plain": [
       "<Figure size 432x288 with 1 Axes>"
      ]
     },
     "metadata": {
      "needs_background": "light"
     },
     "output_type": "display_data"
    }
   ],
   "source": [
    "from scikitplot.metrics import plot_roc\n",
    "plot_roc(y_test,grid_search.best_estimator_.predict_proba(X_test),plot_micro=False, plot_macro=False,classes_to_plot=1)"
   ]
  },
  {
   "cell_type": "markdown",
   "metadata": {},
   "source": [
    "Aplicamos algoritmo XGBoosting al dataset"
   ]
  },
  {
   "cell_type": "code",
   "execution_count": 82,
   "metadata": {},
   "outputs": [
    {
     "data": {
      "text/plain": [
       "\"parameters = {'clasificador__n_estimators':[3, 5, 10, 50,100,500],\\n          'clasificador__max_depth': [None,1,2,3,4],\\n          'clasificador__learning_rate': [0.01, 0.1]}\""
      ]
     },
     "execution_count": 82,
     "metadata": {},
     "output_type": "execute_result"
    }
   ],
   "source": [
    "pipeline = Pipeline([('union', union), \n",
    "                     ('clasificador',XGBClassifier())])\n",
    "\n",
    "'''parameters = {'clasificador__n_estimators':[3, 5, 10, 50,100,500],\n",
    "          'clasificador__max_depth': [None,1,2,3,4],\n",
    "          'clasificador__learning_rate': [0.01, 0.1]}'''"
   ]
  },
  {
   "cell_type": "code",
   "execution_count": 83,
   "metadata": {},
   "outputs": [],
   "source": [
    "parameters2={'clasificador__verbose': 100}\n",
    "\n",
    "parameters ={\n",
    "             'clasificador__max_depth': sp_randint(10,50),\n",
    "             'clasificador__num_leaves': sp_randint(6, 50), \n",
    "             'clasificador__learning_rate ': [0.1,0.01,0.001],\n",
    "             'clasificador__min_child_samples': sp_randint(100, 500), \n",
    "             'clasificador__min_child_weight': [1e-5, 1e-3, 1e-2, 1e-1, 1, 1e1, 1e2, 1e3, 1e4],\n",
    "             'clasificador__subsample': sp_uniform(loc=0.2, scale=0.8), \n",
    "             'clasificador__colsample_bytree': sp_uniform(loc=0.4, scale=0.6),\n",
    "             'clasificador__reg_alpha': [0, 1e-1, 1, 2, 5, 7, 10, 50, 100],\n",
    "             'clasificador__reg_lambda': [0, 1e-1, 1, 5, 10, 20, 50, 100]}"
   ]
  },
  {
   "cell_type": "code",
   "execution_count": 84,
   "metadata": {},
   "outputs": [],
   "source": [
    "from sklearn.model_selection import StratifiedKFold\n",
    "\n",
    "folds=StratifiedKFold(n_splits=5,shuffle=True, random_state=42)\n",
    "grid_search = RandomizedSearchCV (estimator=pipeline, param_distributions=parameters,cv=folds,refit=True, n_jobs = 5,verbose=False, n_iter=100, scoring='roc_auc')"
   ]
  },
  {
   "cell_type": "code",
   "execution_count": 85,
   "metadata": {},
   "outputs": [
    {
     "data": {
      "text/plain": [
       "RandomizedSearchCV(cv=StratifiedKFold(n_splits=5, random_state=42, shuffle=True),\n",
       "                   estimator=Pipeline(steps=[('union',\n",
       "                                              Pipeline(steps=[('standardscaler',\n",
       "                                                               StandardScaler())])),\n",
       "                                             ('clasificador',\n",
       "                                              XGBClassifier())]),\n",
       "                   n_iter=100, n_jobs=5,\n",
       "                   param_distributions={'clasificador__colsample_bytree': <scipy.stats._distn_infrastructure.rv_frozen object at 0x000001FF9A8C8B08>,...\n",
       "                                                                           1000.0,\n",
       "                                                                           10000.0],\n",
       "                                        'clasificador__num_leaves': <scipy.stats._distn_infrastructure.rv_frozen object at 0x000001FF9A8D0B08>,\n",
       "                                        'clasificador__reg_alpha': [0, 0.1, 1,\n",
       "                                                                    2, 5, 7, 10,\n",
       "                                                                    50, 100],\n",
       "                                        'clasificador__reg_lambda': [0, 0.1, 1,\n",
       "                                                                     5, 10, 20,\n",
       "                                                                     50, 100],\n",
       "                                        'clasificador__subsample': <scipy.stats._distn_infrastructure.rv_frozen object at 0x000001FF9A8C87C8>},\n",
       "                   scoring='roc_auc', verbose=False)"
      ]
     },
     "execution_count": 85,
     "metadata": {},
     "output_type": "execute_result"
    }
   ],
   "source": [
    "grid_search.fit(pd.DataFrame(X_train_us, columns=X.columns), y_train_us, **parameters2)"
   ]
  },
  {
   "cell_type": "markdown",
   "metadata": {},
   "source": [
    "Miro el mejor score con los hiperparametros dados, y sus metricas principales"
   ]
  },
  {
   "cell_type": "code",
   "execution_count": 86,
   "metadata": {},
   "outputs": [
    {
     "name": "stdout",
     "output_type": "stream",
     "text": [
      "Best score: 0.788\n",
      "Best parameters set:\n",
      "\t clasificador__colsample_bytree: 0.48263774735960197\n",
      "\t clasificador__learning_rate : 0.01\n",
      "\t clasificador__max_depth: 36\n",
      "\t clasificador__min_child_samples: 143\n",
      "\t clasificador__min_child_weight: 0.001\n",
      "\t clasificador__num_leaves: 12\n",
      "\t clasificador__reg_alpha: 10\n",
      "\t clasificador__reg_lambda: 100\n",
      "\t clasificador__subsample: 0.9978734099648368\n"
     ]
    }
   ],
   "source": [
    "print(\"Best score: %0.3f\" % grid_search.best_score_) \n",
    "print(\"Best parameters set:\" )\n",
    "best_parameters = grid_search.best_estimator_.get_params()\n",
    "for param_name in sorted (parameters . keys()): \n",
    "                    print(\"\\t %s: %r\" % (param_name, best_parameters[param_name])) "
   ]
  },
  {
   "cell_type": "code",
   "execution_count": 87,
   "metadata": {},
   "outputs": [],
   "source": [
    "y_pred = grid_search.best_estimator_.predict(X_test)"
   ]
  },
  {
   "cell_type": "code",
   "execution_count": 88,
   "metadata": {},
   "outputs": [
    {
     "data": {
      "text/html": [
       "<style  type=\"text/css\" >\n",
       "    #T_0c0af974_0a62_11ec_8b27_7066551679cerow0_col0 {\n",
       "            background-color:  #fde725;\n",
       "            color:  #000000;\n",
       "        }    #T_0c0af974_0a62_11ec_8b27_7066551679cerow0_col1 {\n",
       "            background-color:  #440154;\n",
       "            color:  #f1f1f1;\n",
       "        }    #T_0c0af974_0a62_11ec_8b27_7066551679cerow0_col2 {\n",
       "            background-color:  #fde725;\n",
       "            color:  #000000;\n",
       "        }    #T_0c0af974_0a62_11ec_8b27_7066551679cerow1_col0 {\n",
       "            background-color:  #440154;\n",
       "            color:  #f1f1f1;\n",
       "        }    #T_0c0af974_0a62_11ec_8b27_7066551679cerow1_col1 {\n",
       "            background-color:  #fde725;\n",
       "            color:  #000000;\n",
       "        }    #T_0c0af974_0a62_11ec_8b27_7066551679cerow1_col2 {\n",
       "            background-color:  #440154;\n",
       "            color:  #f1f1f1;\n",
       "        }</style><table id=\"T_0c0af974_0a62_11ec_8b27_7066551679ce\" ><thead>    <tr>        <th class=\"blank level0\" ></th>        <th class=\"col_heading level0 col0\" >precision</th>        <th class=\"col_heading level0 col1\" >recall</th>        <th class=\"col_heading level0 col2\" >f1-score</th>        <th class=\"col_heading level0 col3\" >support</th>    </tr></thead><tbody>\n",
       "                <tr>\n",
       "                        <th id=\"T_0c0af974_0a62_11ec_8b27_7066551679celevel0_row0\" class=\"row_heading level0 row0\" >0</th>\n",
       "                        <td id=\"T_0c0af974_0a62_11ec_8b27_7066551679cerow0_col0\" class=\"data row0 col0\" >0.861218</td>\n",
       "                        <td id=\"T_0c0af974_0a62_11ec_8b27_7066551679cerow0_col1\" class=\"data row0 col1\" >0.690418</td>\n",
       "                        <td id=\"T_0c0af974_0a62_11ec_8b27_7066551679cerow0_col2\" class=\"data row0 col2\" >0.766417</td>\n",
       "                        <td id=\"T_0c0af974_0a62_11ec_8b27_7066551679cerow0_col3\" class=\"data row0 col3\" >21122</td>\n",
       "            </tr>\n",
       "            <tr>\n",
       "                        <th id=\"T_0c0af974_0a62_11ec_8b27_7066551679celevel0_row1\" class=\"row_heading level0 row1\" >1</th>\n",
       "                        <td id=\"T_0c0af974_0a62_11ec_8b27_7066551679cerow1_col0\" class=\"data row1 col0\" >0.526914</td>\n",
       "                        <td id=\"T_0c0af974_0a62_11ec_8b27_7066551679cerow1_col1\" class=\"data row1 col1\" >0.756047</td>\n",
       "                        <td id=\"T_0c0af974_0a62_11ec_8b27_7066551679cerow1_col2\" class=\"data row1 col2\" >0.621019</td>\n",
       "                        <td id=\"T_0c0af974_0a62_11ec_8b27_7066551679cerow1_col3\" class=\"data row1 col3\" >9633</td>\n",
       "            </tr>\n",
       "            <tr>\n",
       "                        <th id=\"T_0c0af974_0a62_11ec_8b27_7066551679celevel0_row2\" class=\"row_heading level0 row2\" >accuracy</th>\n",
       "                        <td id=\"T_0c0af974_0a62_11ec_8b27_7066551679cerow2_col0\" class=\"data row2 col0\" >0.710974</td>\n",
       "                        <td id=\"T_0c0af974_0a62_11ec_8b27_7066551679cerow2_col1\" class=\"data row2 col1\" >0.710974</td>\n",
       "                        <td id=\"T_0c0af974_0a62_11ec_8b27_7066551679cerow2_col2\" class=\"data row2 col2\" >0.710974</td>\n",
       "                        <td id=\"T_0c0af974_0a62_11ec_8b27_7066551679cerow2_col3\" class=\"data row2 col3\" >0</td>\n",
       "            </tr>\n",
       "            <tr>\n",
       "                        <th id=\"T_0c0af974_0a62_11ec_8b27_7066551679celevel0_row3\" class=\"row_heading level0 row3\" >macro avg</th>\n",
       "                        <td id=\"T_0c0af974_0a62_11ec_8b27_7066551679cerow3_col0\" class=\"data row3 col0\" >0.694066</td>\n",
       "                        <td id=\"T_0c0af974_0a62_11ec_8b27_7066551679cerow3_col1\" class=\"data row3 col1\" >0.723232</td>\n",
       "                        <td id=\"T_0c0af974_0a62_11ec_8b27_7066551679cerow3_col2\" class=\"data row3 col2\" >0.693718</td>\n",
       "                        <td id=\"T_0c0af974_0a62_11ec_8b27_7066551679cerow3_col3\" class=\"data row3 col3\" >30755</td>\n",
       "            </tr>\n",
       "            <tr>\n",
       "                        <th id=\"T_0c0af974_0a62_11ec_8b27_7066551679celevel0_row4\" class=\"row_heading level0 row4\" >weighted avg</th>\n",
       "                        <td id=\"T_0c0af974_0a62_11ec_8b27_7066551679cerow4_col0\" class=\"data row4 col0\" >0.756508</td>\n",
       "                        <td id=\"T_0c0af974_0a62_11ec_8b27_7066551679cerow4_col1\" class=\"data row4 col1\" >0.710974</td>\n",
       "                        <td id=\"T_0c0af974_0a62_11ec_8b27_7066551679cerow4_col2\" class=\"data row4 col2\" >0.720876</td>\n",
       "                        <td id=\"T_0c0af974_0a62_11ec_8b27_7066551679cerow4_col3\" class=\"data row4 col3\" >30755</td>\n",
       "            </tr>\n",
       "    </tbody></table>"
      ],
      "text/plain": [
       "<pandas.io.formats.style.Styler at 0x1ff9a8cc2c8>"
      ]
     },
     "execution_count": 88,
     "metadata": {},
     "output_type": "execute_result"
    }
   ],
   "source": [
    "test = pd.DataFrame(classification_report(y_test, y_pred, digits=2,output_dict=True)).T\n",
    "test['support'] = test.support.apply(int)\n",
    "test.style.background_gradient(cmap='viridis',\n",
    "                             subset=pd.IndexSlice['0':'9', :'f1-score'])"
   ]
  },
  {
   "cell_type": "markdown",
   "metadata": {},
   "source": [
    "Armo matriz de confusion"
   ]
  },
  {
   "cell_type": "code",
   "execution_count": 89,
   "metadata": {},
   "outputs": [
    {
     "data": {
      "text/plain": [
       "Text(33.0, 0.5, 'Reales')"
      ]
     },
     "execution_count": 89,
     "metadata": {},
     "output_type": "execute_result"
    },
    {
     "data": {
      "image/png": "[encoded data removed]",
      "text/plain": [
       "<Figure size 432x288 with 2 Axes>"
      ]
     },
     "metadata": {
      "needs_background": "light"
     },
     "output_type": "display_data"
    }
   ],
   "source": [
    "sns.heatmap(confusion_matrix(y_test, y_pred), annot=True, fmt='4d')\n",
    "plt.xlabel('Predichos')\n",
    "plt.ylabel('Reales')"
   ]
  },
  {
   "cell_type": "code",
   "execution_count": 90,
   "metadata": {},
   "outputs": [
    {
     "data": {
      "text/plain": [
       "Pipeline(steps=[('union',\n",
       "                 Pipeline(steps=[('standardscaler', StandardScaler())])),\n",
       "                ('clasificador',\n",
       "                 XGBClassifier(colsample_bytree=0.48263774735960197,\n",
       "                               learning_rate =0.01, max_depth=36,\n",
       "                               min_child_samples=143, min_child_weight=0.001,\n",
       "                               num_leaves=12, reg_alpha=10, reg_lambda=100,\n",
       "                               subsample=0.9978734099648368))])"
      ]
     },
     "execution_count": 90,
     "metadata": {},
     "output_type": "execute_result"
    }
   ],
   "source": [
    "feature_names = grid_search.best_estimator_\n",
    "feature_names"
   ]
  },
  {
   "cell_type": "markdown",
   "metadata": {},
   "source": [
    "Miro curva ROC y AUC"
   ]
  },
  {
   "cell_type": "code",
   "execution_count": 91,
   "metadata": {},
   "outputs": [
    {
     "name": "stdout",
     "output_type": "stream",
     "text": [
      "El valor del AUC es:  0.7232322480660937\n"
     ]
    }
   ],
   "source": [
    "from sklearn.metrics import roc_auc_score\n",
    "auc = roc_auc_score(y_test,grid_search.best_estimator_.predict(X_test),multi_class=\"ovr\")\n",
    "print(\"El valor del AUC es: \", auc)"
   ]
  },
  {
   "cell_type": "code",
   "execution_count": 92,
   "metadata": {},
   "outputs": [
    {
     "data": {
      "text/plain": [
       "<AxesSubplot:title={'center':'ROC Curves'}, xlabel='False Positive Rate', ylabel='True Positive Rate'>"
      ]
     },
     "execution_count": 92,
     "metadata": {},
     "output_type": "execute_result"
    },
    {
     "data": {
      "image/png": "[encoded data removed]",
      "text/plain": [
       "<Figure size 432x288 with 1 Axes>"
      ]
     },
     "metadata": {
      "needs_background": "light"
     },
     "output_type": "display_data"
    }
   ],
   "source": [
    "from scikitplot.metrics import plot_roc\n",
    "plot_roc(y_test,grid_search.best_estimator_.predict_proba(X_test),plot_micro=False, plot_macro=False,classes_to_plot=1)"
   ]
  },
  {
   "cell_type": "markdown",
   "metadata": {},
   "source": [
    "Analizo peso de variables en modelo ganador (TOP 50)"
   ]
  },
  {
   "cell_type": "code",
   "execution_count": 56,
   "metadata": {},
   "outputs": [
    {
     "data": {
      "text/html": [
       "\n",
       "    <style>\n",
       "    table.eli5-weights tr:hover {\n",
       "        filter: brightness(85%);\n",
       "    }\n",
       "</style>\n",
       "\n",
       "\n",
       "\n",
       "    \n",
       "\n",
       "    \n",
       "\n",
       "    \n",
       "\n",
       "    \n",
       "\n",
       "    \n",
       "\n",
       "    \n",
       "\n",
       "\n",
       "    \n",
       "\n",
       "    \n",
       "\n",
       "    \n",
       "\n",
       "    \n",
       "\n",
       "    \n",
       "\n",
       "    \n",
       "\n",
       "\n",
       "    \n",
       "\n",
       "    \n",
       "\n",
       "    \n",
       "\n",
       "    \n",
       "\n",
       "    \n",
       "        <table class=\"eli5-weights eli5-feature-importances\" style=\"border-collapse: collapse; border: none; margin-top: 0em; table-layout: auto;\">\n",
       "    <thead>\n",
       "    <tr style=\"border: none;\">\n",
       "        <th style=\"padding: 0 1em 0 0.5em; text-align: right; border: none;\">Weight</th>\n",
       "        <th style=\"padding: 0 0.5em 0 0.5em; text-align: left; border: none;\">Feature</th>\n",
       "    </tr>\n",
       "    </thead>\n",
       "    <tbody>\n",
       "    \n",
       "        <tr style=\"background-color: hsl(120, 100.00%, 80.00%); border: none;\">\n",
       "            <td style=\"padding: 0 1em 0 0.5em; text-align: right; border: none;\">\n",
       "                0.1793\n",
       "                \n",
       "            </td>\n",
       "            <td style=\"padding: 0 0.5em 0 0.5em; text-align: left; border: none;\">\n",
       "                sector_2\n",
       "            </td>\n",
       "        </tr>\n",
       "    \n",
       "        <tr style=\"background-color: hsl(120, 100.00%, 92.77%); border: none;\">\n",
       "            <td style=\"padding: 0 1em 0 0.5em; text-align: right; border: none;\">\n",
       "                0.0419\n",
       "                \n",
       "            </td>\n",
       "            <td style=\"padding: 0 0.5em 0 0.5em; text-align: left; border: none;\">\n",
       "                ap40_01_1.0\n",
       "            </td>\n",
       "        </tr>\n",
       "    \n",
       "        <tr style=\"background-color: hsl(120, 100.00%, 94.07%); border: none;\">\n",
       "            <td style=\"padding: 0 1em 0 0.5em; text-align: right; border: none;\">\n",
       "                0.0315\n",
       "                \n",
       "            </td>\n",
       "            <td style=\"padding: 0 0.5em 0 0.5em; text-align: left; border: none;\">\n",
       "                ap40_04_4.0\n",
       "            </td>\n",
       "        </tr>\n",
       "    \n",
       "        <tr style=\"background-color: hsl(120, 100.00%, 94.31%); border: none;\">\n",
       "            <td style=\"padding: 0 1em 0 0.5em; text-align: right; border: none;\">\n",
       "                0.0298\n",
       "                \n",
       "            </td>\n",
       "            <td style=\"padding: 0 0.5em 0 0.5em; text-align: left; border: none;\">\n",
       "                isocioa_3.0\n",
       "            </td>\n",
       "        </tr>\n",
       "    \n",
       "        <tr style=\"background-color: hsl(120, 100.00%, 94.56%); border: none;\">\n",
       "            <td style=\"padding: 0 1em 0 0.5em; text-align: right; border: none;\">\n",
       "                0.0279\n",
       "                \n",
       "            </td>\n",
       "            <td style=\"padding: 0 0.5em 0 0.5em; text-align: left; border: none;\">\n",
       "                edadA_junio2019_17.0\n",
       "            </td>\n",
       "        </tr>\n",
       "    \n",
       "        <tr style=\"background-color: hsl(120, 100.00%, 94.87%); border: none;\">\n",
       "            <td style=\"padding: 0 1em 0 0.5em; text-align: right; border: none;\">\n",
       "                0.0257\n",
       "                \n",
       "            </td>\n",
       "            <td style=\"padding: 0 0.5em 0 0.5em; text-align: left; border: none;\">\n",
       "                ap40_02_1.0\n",
       "            </td>\n",
       "        </tr>\n",
       "    \n",
       "        <tr style=\"background-color: hsl(120, 100.00%, 95.50%); border: none;\">\n",
       "            <td style=\"padding: 0 1em 0 0.5em; text-align: right; border: none;\">\n",
       "                0.0213\n",
       "                \n",
       "            </td>\n",
       "            <td style=\"padding: 0 0.5em 0 0.5em; text-align: left; border: none;\">\n",
       "                ap24_1.0\n",
       "            </td>\n",
       "        </tr>\n",
       "    \n",
       "        <tr style=\"background-color: hsl(120, 100.00%, 95.83%); border: none;\">\n",
       "            <td style=\"padding: 0 1em 0 0.5em; text-align: right; border: none;\">\n",
       "                0.0191\n",
       "                \n",
       "            </td>\n",
       "            <td style=\"padding: 0 0.5em 0 0.5em; text-align: left; border: none;\">\n",
       "                ap39_04_3.0\n",
       "            </td>\n",
       "        </tr>\n",
       "    \n",
       "        <tr style=\"background-color: hsl(120, 100.00%, 96.13%); border: none;\">\n",
       "            <td style=\"padding: 0 1em 0 0.5em; text-align: right; border: none;\">\n",
       "                0.0171\n",
       "                \n",
       "            </td>\n",
       "            <td style=\"padding: 0 0.5em 0 0.5em; text-align: left; border: none;\">\n",
       "                ap39_04_4.0\n",
       "            </td>\n",
       "        </tr>\n",
       "    \n",
       "        <tr style=\"background-color: hsl(120, 100.00%, 96.14%); border: none;\">\n",
       "            <td style=\"padding: 0 1em 0 0.5em; text-align: right; border: none;\">\n",
       "                0.0171\n",
       "                \n",
       "            </td>\n",
       "            <td style=\"padding: 0 0.5em 0 0.5em; text-align: left; border: none;\">\n",
       "                ap40_01_4.0\n",
       "            </td>\n",
       "        </tr>\n",
       "    \n",
       "        <tr style=\"background-color: hsl(120, 100.00%, 96.42%); border: none;\">\n",
       "            <td style=\"padding: 0 1em 0 0.5em; text-align: right; border: none;\">\n",
       "                0.0153\n",
       "                \n",
       "            </td>\n",
       "            <td style=\"padding: 0 0.5em 0 0.5em; text-align: left; border: none;\">\n",
       "                ap16_6.0\n",
       "            </td>\n",
       "        </tr>\n",
       "    \n",
       "        <tr style=\"background-color: hsl(120, 100.00%, 96.69%); border: none;\">\n",
       "            <td style=\"padding: 0 1em 0 0.5em; text-align: right; border: none;\">\n",
       "                0.0137\n",
       "                \n",
       "            </td>\n",
       "            <td style=\"padding: 0 0.5em 0 0.5em; text-align: left; border: none;\">\n",
       "                ap40_01_2.0\n",
       "            </td>\n",
       "        </tr>\n",
       "    \n",
       "        <tr style=\"background-color: hsl(120, 100.00%, 96.83%); border: none;\">\n",
       "            <td style=\"padding: 0 1em 0 0.5em; text-align: right; border: none;\">\n",
       "                0.0129\n",
       "                \n",
       "            </td>\n",
       "            <td style=\"padding: 0 0.5em 0 0.5em; text-align: left; border: none;\">\n",
       "                ap40_01_3.0\n",
       "            </td>\n",
       "        </tr>\n",
       "    \n",
       "        <tr style=\"background-color: hsl(120, 100.00%, 97.00%); border: none;\">\n",
       "            <td style=\"padding: 0 1em 0 0.5em; text-align: right; border: none;\">\n",
       "                0.0119\n",
       "                \n",
       "            </td>\n",
       "            <td style=\"padding: 0 0.5em 0 0.5em; text-align: left; border: none;\">\n",
       "                ap23_02_1.0\n",
       "            </td>\n",
       "        </tr>\n",
       "    \n",
       "        <tr style=\"background-color: hsl(120, 100.00%, 97.01%); border: none;\">\n",
       "            <td style=\"padding: 0 1em 0 0.5em; text-align: right; border: none;\">\n",
       "                0.0118\n",
       "                \n",
       "            </td>\n",
       "            <td style=\"padding: 0 0.5em 0 0.5em; text-align: left; border: none;\">\n",
       "                ap34_2.0\n",
       "            </td>\n",
       "        </tr>\n",
       "    \n",
       "        <tr style=\"background-color: hsl(120, 100.00%, 97.06%); border: none;\">\n",
       "            <td style=\"padding: 0 1em 0 0.5em; text-align: right; border: none;\">\n",
       "                0.0116\n",
       "                \n",
       "            </td>\n",
       "            <td style=\"padding: 0 0.5em 0 0.5em; text-align: left; border: none;\">\n",
       "                ap11_08_1.0\n",
       "            </td>\n",
       "        </tr>\n",
       "    \n",
       "        <tr style=\"background-color: hsl(120, 100.00%, 97.09%); border: none;\">\n",
       "            <td style=\"padding: 0 1em 0 0.5em; text-align: right; border: none;\">\n",
       "                0.0114\n",
       "                \n",
       "            </td>\n",
       "            <td style=\"padding: 0 0.5em 0 0.5em; text-align: left; border: none;\">\n",
       "                ap51_04_5.0\n",
       "            </td>\n",
       "        </tr>\n",
       "    \n",
       "        <tr style=\"background-color: hsl(120, 100.00%, 97.18%); border: none;\">\n",
       "            <td style=\"padding: 0 1em 0 0.5em; text-align: right; border: none;\">\n",
       "                0.0109\n",
       "                \n",
       "            </td>\n",
       "            <td style=\"padding: 0 0.5em 0 0.5em; text-align: left; border: none;\">\n",
       "                ap17_6.0\n",
       "            </td>\n",
       "        </tr>\n",
       "    \n",
       "        <tr style=\"background-color: hsl(120, 100.00%, 97.35%); border: none;\">\n",
       "            <td style=\"padding: 0 1em 0 0.5em; text-align: right; border: none;\">\n",
       "                0.0100\n",
       "                \n",
       "            </td>\n",
       "            <td style=\"padding: 0 0.5em 0 0.5em; text-align: left; border: none;\">\n",
       "                ap49_01_3.0\n",
       "            </td>\n",
       "        </tr>\n",
       "    \n",
       "        <tr style=\"background-color: hsl(120, 100.00%, 97.40%); border: none;\">\n",
       "            <td style=\"padding: 0 1em 0 0.5em; text-align: right; border: none;\">\n",
       "                0.0097\n",
       "                \n",
       "            </td>\n",
       "            <td style=\"padding: 0 0.5em 0 0.5em; text-align: left; border: none;\">\n",
       "                ap51_09_5.0\n",
       "            </td>\n",
       "        </tr>\n",
       "    \n",
       "        <tr style=\"background-color: hsl(120, 100.00%, 97.49%); border: none;\">\n",
       "            <td style=\"padding: 0 1em 0 0.5em; text-align: right; border: none;\">\n",
       "                0.0092\n",
       "                \n",
       "            </td>\n",
       "            <td style=\"padding: 0 0.5em 0 0.5em; text-align: left; border: none;\">\n",
       "                cod_provincia_14\n",
       "            </td>\n",
       "        </tr>\n",
       "    \n",
       "        <tr style=\"background-color: hsl(120, 100.00%, 97.50%); border: none;\">\n",
       "            <td style=\"padding: 0 1em 0 0.5em; text-align: right; border: none;\">\n",
       "                0.0092\n",
       "                \n",
       "            </td>\n",
       "            <td style=\"padding: 0 0.5em 0 0.5em; text-align: left; border: none;\">\n",
       "                ap16_5.0\n",
       "            </td>\n",
       "        </tr>\n",
       "    \n",
       "        <tr style=\"background-color: hsl(120, 100.00%, 97.54%); border: none;\">\n",
       "            <td style=\"padding: 0 1em 0 0.5em; text-align: right; border: none;\">\n",
       "                0.0090\n",
       "                \n",
       "            </td>\n",
       "            <td style=\"padding: 0 0.5em 0 0.5em; text-align: left; border: none;\">\n",
       "                ap34_4.0\n",
       "            </td>\n",
       "        </tr>\n",
       "    \n",
       "        <tr style=\"background-color: hsl(120, 100.00%, 97.57%); border: none;\">\n",
       "            <td style=\"padding: 0 1em 0 0.5em; text-align: right; border: none;\">\n",
       "                0.0088\n",
       "                \n",
       "            </td>\n",
       "            <td style=\"padding: 0 0.5em 0 0.5em; text-align: left; border: none;\">\n",
       "                ap51_05_4.0\n",
       "            </td>\n",
       "        </tr>\n",
       "    \n",
       "        <tr style=\"background-color: hsl(120, 100.00%, 97.57%); border: none;\">\n",
       "            <td style=\"padding: 0 1em 0 0.5em; text-align: right; border: none;\">\n",
       "                0.0088\n",
       "                \n",
       "            </td>\n",
       "            <td style=\"padding: 0 0.5em 0 0.5em; text-align: left; border: none;\">\n",
       "                ap39_01_4.0\n",
       "            </td>\n",
       "        </tr>\n",
       "    \n",
       "        <tr style=\"background-color: hsl(120, 100.00%, 97.63%); border: none;\">\n",
       "            <td style=\"padding: 0 1em 0 0.5em; text-align: right; border: none;\">\n",
       "                0.0085\n",
       "                \n",
       "            </td>\n",
       "            <td style=\"padding: 0 0.5em 0 0.5em; text-align: left; border: none;\">\n",
       "                ap51_06_2.0\n",
       "            </td>\n",
       "        </tr>\n",
       "    \n",
       "        <tr style=\"background-color: hsl(120, 100.00%, 97.68%); border: none;\">\n",
       "            <td style=\"padding: 0 1em 0 0.5em; text-align: right; border: none;\">\n",
       "                0.0083\n",
       "                \n",
       "            </td>\n",
       "            <td style=\"padding: 0 0.5em 0 0.5em; text-align: left; border: none;\">\n",
       "                ap02_2.0\n",
       "            </td>\n",
       "        </tr>\n",
       "    \n",
       "        <tr style=\"background-color: hsl(120, 100.00%, 97.77%); border: none;\">\n",
       "            <td style=\"padding: 0 1em 0 0.5em; text-align: right; border: none;\">\n",
       "                0.0078\n",
       "                \n",
       "            </td>\n",
       "            <td style=\"padding: 0 0.5em 0 0.5em; text-align: left; border: none;\">\n",
       "                ap39_04_2.0\n",
       "            </td>\n",
       "        </tr>\n",
       "    \n",
       "        <tr style=\"background-color: hsl(120, 100.00%, 97.79%); border: none;\">\n",
       "            <td style=\"padding: 0 1em 0 0.5em; text-align: right; border: none;\">\n",
       "                0.0077\n",
       "                \n",
       "            </td>\n",
       "            <td style=\"padding: 0 0.5em 0 0.5em; text-align: left; border: none;\">\n",
       "                ap39_04_1.0\n",
       "            </td>\n",
       "        </tr>\n",
       "    \n",
       "        <tr style=\"background-color: hsl(120, 100.00%, 97.79%); border: none;\">\n",
       "            <td style=\"padding: 0 1em 0 0.5em; text-align: right; border: none;\">\n",
       "                0.0077\n",
       "                \n",
       "            </td>\n",
       "            <td style=\"padding: 0 0.5em 0 0.5em; text-align: left; border: none;\">\n",
       "                ap51_03_1.0\n",
       "            </td>\n",
       "        </tr>\n",
       "    \n",
       "        <tr style=\"background-color: hsl(120, 100.00%, 97.81%); border: none;\">\n",
       "            <td style=\"padding: 0 1em 0 0.5em; text-align: right; border: none;\">\n",
       "                0.0076\n",
       "                \n",
       "            </td>\n",
       "            <td style=\"padding: 0 0.5em 0 0.5em; text-align: left; border: none;\">\n",
       "                ap02_1.0\n",
       "            </td>\n",
       "        </tr>\n",
       "    \n",
       "        <tr style=\"background-color: hsl(120, 100.00%, 97.84%); border: none;\">\n",
       "            <td style=\"padding: 0 1em 0 0.5em; text-align: right; border: none;\">\n",
       "                0.0075\n",
       "                \n",
       "            </td>\n",
       "            <td style=\"padding: 0 0.5em 0 0.5em; text-align: left; border: none;\">\n",
       "                ap16_2.0\n",
       "            </td>\n",
       "        </tr>\n",
       "    \n",
       "        <tr style=\"background-color: hsl(120, 100.00%, 97.87%); border: none;\">\n",
       "            <td style=\"padding: 0 1em 0 0.5em; text-align: right; border: none;\">\n",
       "                0.0073\n",
       "                \n",
       "            </td>\n",
       "            <td style=\"padding: 0 0.5em 0 0.5em; text-align: left; border: none;\">\n",
       "                ap28_01_3.0\n",
       "            </td>\n",
       "        </tr>\n",
       "    \n",
       "        <tr style=\"background-color: hsl(120, 100.00%, 97.91%); border: none;\">\n",
       "            <td style=\"padding: 0 1em 0 0.5em; text-align: right; border: none;\">\n",
       "                0.0071\n",
       "                \n",
       "            </td>\n",
       "            <td style=\"padding: 0 0.5em 0 0.5em; text-align: left; border: none;\">\n",
       "                isocioa_2.0\n",
       "            </td>\n",
       "        </tr>\n",
       "    \n",
       "        <tr style=\"background-color: hsl(120, 100.00%, 97.94%); border: none;\">\n",
       "            <td style=\"padding: 0 1em 0 0.5em; text-align: right; border: none;\">\n",
       "                0.0070\n",
       "                \n",
       "            </td>\n",
       "            <td style=\"padding: 0 0.5em 0 0.5em; text-align: left; border: none;\">\n",
       "                ap51_06_1.0\n",
       "            </td>\n",
       "        </tr>\n",
       "    \n",
       "        <tr style=\"background-color: hsl(120, 100.00%, 97.94%); border: none;\">\n",
       "            <td style=\"padding: 0 1em 0 0.5em; text-align: right; border: none;\">\n",
       "                0.0070\n",
       "                \n",
       "            </td>\n",
       "            <td style=\"padding: 0 0.5em 0 0.5em; text-align: left; border: none;\">\n",
       "                ap28_01_2.0\n",
       "            </td>\n",
       "        </tr>\n",
       "    \n",
       "        <tr style=\"background-color: hsl(120, 100.00%, 97.95%); border: none;\">\n",
       "            <td style=\"padding: 0 1em 0 0.5em; text-align: right; border: none;\">\n",
       "                0.0069\n",
       "                \n",
       "            </td>\n",
       "            <td style=\"padding: 0 0.5em 0 0.5em; text-align: left; border: none;\">\n",
       "                ap33_01_b_1.0\n",
       "            </td>\n",
       "        </tr>\n",
       "    \n",
       "        <tr style=\"background-color: hsl(120, 100.00%, 97.98%); border: none;\">\n",
       "            <td style=\"padding: 0 1em 0 0.5em; text-align: right; border: none;\">\n",
       "                0.0068\n",
       "                \n",
       "            </td>\n",
       "            <td style=\"padding: 0 0.5em 0 0.5em; text-align: left; border: none;\">\n",
       "                cod_provincia_22\n",
       "            </td>\n",
       "        </tr>\n",
       "    \n",
       "        <tr style=\"background-color: hsl(120, 100.00%, 98.00%); border: none;\">\n",
       "            <td style=\"padding: 0 1em 0 0.5em; text-align: right; border: none;\">\n",
       "                0.0067\n",
       "                \n",
       "            </td>\n",
       "            <td style=\"padding: 0 0.5em 0 0.5em; text-align: left; border: none;\">\n",
       "                ap33_01_a_1.0\n",
       "            </td>\n",
       "        </tr>\n",
       "    \n",
       "        <tr style=\"background-color: hsl(120, 100.00%, 98.02%); border: none;\">\n",
       "            <td style=\"padding: 0 1em 0 0.5em; text-align: right; border: none;\">\n",
       "                0.0066\n",
       "                \n",
       "            </td>\n",
       "            <td style=\"padding: 0 0.5em 0 0.5em; text-align: left; border: none;\">\n",
       "                ap50_02_1.0\n",
       "            </td>\n",
       "        </tr>\n",
       "    \n",
       "        <tr style=\"background-color: hsl(120, 100.00%, 98.12%); border: none;\">\n",
       "            <td style=\"padding: 0 1em 0 0.5em; text-align: right; border: none;\">\n",
       "                0.0061\n",
       "                \n",
       "            </td>\n",
       "            <td style=\"padding: 0 0.5em 0 0.5em; text-align: left; border: none;\">\n",
       "                ap25_01_1.0\n",
       "            </td>\n",
       "        </tr>\n",
       "    \n",
       "        <tr style=\"background-color: hsl(120, 100.00%, 98.14%); border: none;\">\n",
       "            <td style=\"padding: 0 1em 0 0.5em; text-align: right; border: none;\">\n",
       "                0.0060\n",
       "                \n",
       "            </td>\n",
       "            <td style=\"padding: 0 0.5em 0 0.5em; text-align: left; border: none;\">\n",
       "                ap43_a_1.0\n",
       "            </td>\n",
       "        </tr>\n",
       "    \n",
       "        <tr style=\"background-color: hsl(120, 100.00%, 98.15%); border: none;\">\n",
       "            <td style=\"padding: 0 1em 0 0.5em; text-align: right; border: none;\">\n",
       "                0.0060\n",
       "                \n",
       "            </td>\n",
       "            <td style=\"padding: 0 0.5em 0 0.5em; text-align: left; border: none;\">\n",
       "                cod_provincia_86\n",
       "            </td>\n",
       "        </tr>\n",
       "    \n",
       "        <tr style=\"background-color: hsl(120, 100.00%, 98.19%); border: none;\">\n",
       "            <td style=\"padding: 0 1em 0 0.5em; text-align: right; border: none;\">\n",
       "                0.0058\n",
       "                \n",
       "            </td>\n",
       "            <td style=\"padding: 0 0.5em 0 0.5em; text-align: left; border: none;\">\n",
       "                ap28_01_1.0\n",
       "            </td>\n",
       "        </tr>\n",
       "    \n",
       "        <tr style=\"background-color: hsl(120, 100.00%, 98.25%); border: none;\">\n",
       "            <td style=\"padding: 0 1em 0 0.5em; text-align: right; border: none;\">\n",
       "                0.0055\n",
       "                \n",
       "            </td>\n",
       "            <td style=\"padding: 0 0.5em 0 0.5em; text-align: left; border: none;\">\n",
       "                ap11_08_2.0\n",
       "            </td>\n",
       "        </tr>\n",
       "    \n",
       "        <tr style=\"background-color: hsl(120, 100.00%, 98.25%); border: none;\">\n",
       "            <td style=\"padding: 0 1em 0 0.5em; text-align: right; border: none;\">\n",
       "                0.0055\n",
       "                \n",
       "            </td>\n",
       "            <td style=\"padding: 0 0.5em 0 0.5em; text-align: left; border: none;\">\n",
       "                ap49_02_3.0\n",
       "            </td>\n",
       "        </tr>\n",
       "    \n",
       "        <tr style=\"background-color: hsl(120, 100.00%, 98.40%); border: none;\">\n",
       "            <td style=\"padding: 0 1em 0 0.5em; text-align: right; border: none;\">\n",
       "                0.0049\n",
       "                \n",
       "            </td>\n",
       "            <td style=\"padding: 0 0.5em 0 0.5em; text-align: left; border: none;\">\n",
       "                ap49_01_2.0\n",
       "            </td>\n",
       "        </tr>\n",
       "    \n",
       "        <tr style=\"background-color: hsl(120, 100.00%, 98.42%); border: none;\">\n",
       "            <td style=\"padding: 0 1em 0 0.5em; text-align: right; border: none;\">\n",
       "                0.0048\n",
       "                \n",
       "            </td>\n",
       "            <td style=\"padding: 0 0.5em 0 0.5em; text-align: left; border: none;\">\n",
       "                ap39_01_2.0\n",
       "            </td>\n",
       "        </tr>\n",
       "    \n",
       "        <tr style=\"background-color: hsl(120, 100.00%, 98.44%); border: none;\">\n",
       "            <td style=\"padding: 0 1em 0 0.5em; text-align: right; border: none;\">\n",
       "                0.0047\n",
       "                \n",
       "            </td>\n",
       "            <td style=\"padding: 0 0.5em 0 0.5em; text-align: left; border: none;\">\n",
       "                ap40_02_4.0\n",
       "            </td>\n",
       "        </tr>\n",
       "    \n",
       "        <tr style=\"background-color: hsl(120, 100.00%, 98.45%); border: none;\">\n",
       "            <td style=\"padding: 0 1em 0 0.5em; text-align: right; border: none;\">\n",
       "                0.0046\n",
       "                \n",
       "            </td>\n",
       "            <td style=\"padding: 0 0.5em 0 0.5em; text-align: left; border: none;\">\n",
       "                ap42_01_1.0\n",
       "            </td>\n",
       "        </tr>\n",
       "    \n",
       "    \n",
       "        \n",
       "            <tr style=\"background-color: hsl(120, 100.00%, 98.45%); border: none;\">\n",
       "                <td colspan=\"2\" style=\"padding: 0 0.5em 0 0.5em; text-align: center; border: none; white-space: nowrap;\">\n",
       "                    <i>&hellip; 257 more &hellip;</i>\n",
       "                </td>\n",
       "            </tr>\n",
       "        \n",
       "    \n",
       "    </tbody>\n",
       "</table>\n",
       "    \n",
       "\n",
       "    \n",
       "\n",
       "\n",
       "    \n",
       "\n",
       "    \n",
       "\n",
       "    \n",
       "\n",
       "    \n",
       "\n",
       "    \n",
       "\n",
       "    \n",
       "\n",
       "\n",
       "\n"
      ],
      "text/plain": [
       "Explanation(estimator='LGBMClassifier(colsample_bytree=0.40044535215398924, learning_rate =0.2,\\n               max_depth=20, min_child_samples=441, min_child_weight=1,\\n               num_leaves=50, reg_alpha=0.1, reg_lambda=0.1,\\n               subsample=0.3293061897723808)', description='\\nLightGBM feature importances; values are numbers 0 <= x <= 1;\\nall values sum to 1.\\n', error=None, method='feature importances', is_regression=False, targets=None, feature_importances=FeatureImportances(importances=[FeatureWeight(feature='sector_2', weight=0.17930230947240539, std=None, value=None), FeatureWeight(feature='ap40_01_1.0', weight=0.04188220884746729, std=None, value=None), FeatureWeight(feature='ap40_04_4.0', weight=0.031548412123119075, std=None, value=None), FeatureWeight(feature='isocioa_3.0', weight=0.029752103805888677, std=None, value=None), FeatureWeight(feature='edadA_junio2019_17.0', weight=0.02787793776124526, std=None, value=None), FeatureWeight(feature='ap40_02_1.0', weight=0.02565840626071923, std=None, value=None), FeatureWeight(feature='ap24_1.0', weight=0.021255872457710528, std=None, value=None), FeatureWeight(feature='ap39_04_3.0', weight=0.01909696375930867, std=None, value=None), FeatureWeight(feature='ap39_04_4.0', weight=0.017142619943795706, std=None, value=None), FeatureWeight(feature='ap40_01_4.0', weight=0.017098054919979764, std=None, value=None), FeatureWeight(feature='ap16_6.0', weight=0.015339578122107882, std=None, value=None), FeatureWeight(feature='ap40_01_2.0', weight=0.013727803168332239, std=None, value=None), FeatureWeight(feature='ap40_01_3.0', weight=0.012887457506602536, std=None, value=None), FeatureWeight(feature='ap23_02_1.0', weight=0.01194479158353237, std=None, value=None), FeatureWeight(feature='ap34_2.0', weight=0.011845078114717442, std=None, value=None), FeatureWeight(feature='ap11_08_1.0', weight=0.011565101937364729, std=None, value=None), FeatureWeight(feature='ap51_04_5.0', weight=0.011418451375551902, std=None, value=None), FeatureWeight(feature='ap17_6.0', weight=0.010915058729677482, std=None, value=None), FeatureWeight(feature='ap49_01_3.0', weight=0.009967779209707667, std=None, value=None), FeatureWeight(feature='ap51_09_5.0', weight=0.009698597530207883, std=None, value=None), FeatureWeight(feature='cod_provincia_14', weight=0.00922185636158472, std=None, value=None), FeatureWeight(feature='ap16_5.0', weight=0.00919793722074073, std=None, value=None), FeatureWeight(feature='ap34_4.0', weight=0.008993717660153295, std=None, value=None), FeatureWeight(feature='ap51_05_4.0', weight=0.00883936786703382, std=None, value=None), FeatureWeight(feature='ap39_01_4.0', weight=0.008835412277197228, std=None, value=None), FeatureWeight(feature='ap51_06_2.0', weight=0.008509012001411503, std=None, value=None), FeatureWeight(feature='ap02_2.0', weight=0.008282659560754357, std=None, value=None), FeatureWeight(feature='ap39_04_2.0', weight=0.007825180616447549, std=None, value=None), FeatureWeight(feature='ap39_04_1.0', weight=0.0077077481959323575, std=None, value=None), FeatureWeight(feature='ap51_03_1.0', weight=0.007699788668615349, std=None, value=None), FeatureWeight(feature='ap02_1.0', weight=0.007617485868698486, std=None, value=None), FeatureWeight(feature='ap16_2.0', weight=0.007466725615863396, std=None, value=None), FeatureWeight(feature='ap28_01_3.0', weight=0.007310529427943698, std=None, value=None), FeatureWeight(feature='isocioa_2.0', weight=0.0071346196507479885, std=None, value=None), FeatureWeight(feature='ap51_06_1.0', weight=0.006976375799575833, std=None, value=None), FeatureWeight(feature='ap28_01_2.0', weight=0.006966064180364163, std=None, value=None), FeatureWeight(feature='ap33_01_b_1.0', weight=0.006918940370378789, std=None, value=None), FeatureWeight(feature='cod_provincia_22', weight=0.006765513680098818, std=None, value=None), FeatureWeight(feature='ap33_01_a_1.0', weight=0.006679721193726938, std=None, value=None), FeatureWeight(feature='ap50_02_1.0', weight=0.006585540640052992, std=None, value=None), FeatureWeight(feature='ap25_01_1.0', weight=0.006106696369574774, std=None, value=None), FeatureWeight(feature='ap43_a_1.0', weight=0.0060028134539540775, std=None, value=None), FeatureWeight(feature='cod_provincia_86', weight=0.005998020463623094, std=None, value=None), FeatureWeight(feature='ap28_01_1.0', weight=0.005782922181026448, std=None, value=None), FeatureWeight(feature='ap11_08_2.0', weight=0.005519668138735568, std=None, value=None), FeatureWeight(feature='ap49_02_3.0', weight=0.005513158421198171, std=None, value=None), FeatureWeight(feature='ap49_01_2.0', weight=0.0048626051448903964, std=None, value=None), FeatureWeight(feature='ap39_01_2.0', weight=0.004777576710413571, std=None, value=None), FeatureWeight(feature='ap40_02_4.0', weight=0.004704862982312379, std=None, value=None), FeatureWeight(feature='ap42_01_1.0', weight=0.00464919102804354, std=None, value=None)], remaining=257), decision_tree=None, highlight_spaces=None, transition_features=None, image=None)"
      ]
     },
     "execution_count": 56,
     "metadata": {},
     "output_type": "execute_result"
    }
   ],
   "source": [
    "import eli5 as eli5\n",
    "\n",
    "eli5.explain_weights(grid_search.best_estimator_.named_steps['clasificador'], top=50, feature_names=list(X.columns))"
   ]
  },
  {
   "cell_type": "markdown",
   "metadata": {},
   "source": [
    "Graficos descriptivos de features"
   ]
  },
  {
   "cell_type": "code",
   "execution_count": 61,
   "metadata": {},
   "outputs": [
    {
     "data": {
      "text/plain": [
       "Text(0.5, 0, 'Sexo')"
      ]
     },
     "execution_count": 61,
     "metadata": {},
     "output_type": "execute_result"
    },
    {
     "data": {
      "image/png": "[encoded data removed]",
      "text/plain": [
       "<Figure size 432x288 with 1 Axes>"
      ]
     },
     "metadata": {
      "needs_background": "light"
     },
     "output_type": "display_data"
    }
   ],
   "source": [
    "plt.figure()\n",
    "sns.countplot(datafinal.ap02[(datafinal.values != -9).all(1)] ,label=\"Count\")\n",
    "plt.ylabel(\"Numero de Estudiantes\")\n",
    "plt.xlabel(\"Sexo\")"
   ]
  },
  {
   "cell_type": "code",
   "execution_count": 54,
   "metadata": {},
   "outputs": [
    {
     "data": {
      "text/plain": [
       "Text(0.5, 0, 'Sector de la Escuela')"
      ]
     },
     "execution_count": 54,
     "metadata": {},
     "output_type": "execute_result"
    },
    {
     "data": {
      "image/png": "[encoded data removed]",
      "text/plain": [
       "<Figure size 432x288 with 1 Axes>"
      ]
     },
     "metadata": {
      "needs_background": "light"
     },
     "output_type": "display_data"
    }
   ],
   "source": [
    "plt.figure()\n",
    "sns.countplot(datafinal['sector'] ,label=\"Count\")\n",
    "plt.ylabel(\"Numero de Estudiantes\")\n",
    "plt.xlabel(\"Sector de la Escuela\")\n"
   ]
  },
  {
   "cell_type": "code",
   "execution_count": 79,
   "metadata": {},
   "outputs": [
    {
     "data": {
      "image/png": "[encoded data removed]",
      "text/plain": [
       "<Figure size 432x288 with 1 Axes>"
      ]
     },
     "metadata": {},
     "output_type": "display_data"
    }
   ],
   "source": [
    "datafinal.ambito.value_counts().plot.pie(autopct='%1.1f%%',subplots=True,shadow=True,labels = ['Urbano','Rural'],);\n",
    "plt.show()"
   ]
  },
  {
   "cell_type": "code",
   "execution_count": 83,
   "metadata": {},
   "outputs": [
    {
     "data": {
      "text/plain": [
       "Text(0.5, 0, 'Indice Socioeconomico')"
      ]
     },
     "execution_count": 83,
     "metadata": {},
     "output_type": "execute_result"
    },
    {
     "data": {
      "image/png": "[encoded data removed]",
      "text/plain": [
       "<Figure size 432x288 with 1 Axes>"
      ]
     },
     "metadata": {
      "needs_background": "light"
     },
     "output_type": "display_data"
    }
   ],
   "source": [
    "plt.figure()\n",
    "sns.countplot(datafinal['isocioa'] )\n",
    "plt.ylabel(\"Numero de Estudiantes\")\n",
    "plt.xlabel(\"Indice Socioeconomico\")\n"
   ]
  },
  {
   "cell_type": "code",
   "execution_count": 32,
   "metadata": {},
   "outputs": [
    {
     "data": {
      "text/plain": [
       "Text(0.5, 0, 'Desempeño por cuartil en Matematica')"
      ]
     },
     "execution_count": 32,
     "metadata": {},
     "output_type": "execute_result"
    },
    {
     "data": {
      "image/png": "[encoded data removed]",
      "text/plain": [
       "<Figure size 432x288 with 1 Axes>"
      ]
     },
     "metadata": {
      "needs_background": "light"
     },
     "output_type": "display_data"
    }
   ],
   "source": [
    "plt.figure()\n",
    "sns.countplot(datafinal['mdesemp'] ,label=\"Count\")\n",
    "plt.ylabel(\"Numero de Estudiantes\")\n",
    "plt.xlabel(\"Desempeño por cuartil en Matematica\")\n",
    "\n"
   ]
  },
  {
   "cell_type": "code",
   "execution_count": 92,
   "metadata": {},
   "outputs": [
    {
     "data": {
      "text/plain": [
       "Text(0, 0.5, 'Porcentaje de estudiantes')"
      ]
     },
     "execution_count": 92,
     "metadata": {},
     "output_type": "execute_result"
    },
    {
     "data": {
      "image/png": "[encoded data removed]",
      "text/plain": [
       "<Figure size 432x288 with 1 Axes>"
      ]
     },
     "metadata": {
      "needs_background": "light"
     },
     "output_type": "display_data"
    }
   ],
   "source": [
    "Variable = \"sector\"\n",
    "Nombre_del_grafico = \"Desempeño por familiares con estudios universitarios\"\n",
    "\n",
    "variable_counts = (datamate.groupby(['target'])[Variable]\n",
    "                     .value_counts(normalize=True)\n",
    "                     .rename('percentage')\n",
    "                     .mul(100)\n",
    "                     .reset_index()\n",
    "                     .sort_values(Variable))\n",
    "p = sns.barplot(x=\"target\", y=\"percentage\", hue=Variable, data=variable_counts)\n",
    "p.axes.set_title(Nombre_del_grafico,fontsize=16)\n",
    "p.set_xlabel(\"¿Desaprueba Matematica?\",fontsize=12)\n",
    "p.set_ylabel(\"Porcentaje de estudiantes\",fontsize=12)"
   ]
  },
  {
   "cell_type": "code",
   "execution_count": 164,
   "metadata": {},
   "outputs": [
    {
     "data": {
      "text/plain": [
       "Text(0.5, 1.0, 'Distribucion de desaprobados en sector estatal privado')"
      ]
     },
     "execution_count": 164,
     "metadata": {},
     "output_type": "execute_result"
    },
    {
     "data": {
      "image/png": "[encoded data removed]",
      "text/plain": [
       "<Figure size 432x288 with 1 Axes>"
      ]
     },
     "metadata": {
      "needs_background": "light"
     },
     "output_type": "display_data"
    }
   ],
   "source": [
    "datagraf2= datamate.loc[(datamate['sector'] == 2) ]\n",
    "plt.figure()\n",
    "\n",
    "sns.countplot(datagraf2['target'])\n",
    "plt.ylabel(\"Numero de Estudiantes\")\n",
    "plt.xlabel(\"Nota final Estudiantes (0=Aprobado, 1=Desaprobado)\")\n",
    "plt.title(\"Distribucion de desaprobados en sector estatal privado\")\n"
   ]
  },
  {
   "cell_type": "code",
   "execution_count": 165,
   "metadata": {},
   "outputs": [
    {
     "data": {
      "text/plain": [
       "Text(0.5, 1.0, 'Distribucion de desaprobados en alumnos que respondieron Negativamente en la afirmacion: Disfruto estudiando Matemática')"
      ]
     },
     "execution_count": 165,
     "metadata": {},
     "output_type": "execute_result"
    },
    {
     "data": {
      "image/png": "[encoded data removed]",
      "text/plain": [
       "<Figure size 432x288 with 1 Axes>"
      ]
     },
     "metadata": {
      "needs_background": "light"
     },
     "output_type": "display_data"
    }
   ],
   "source": [
    "datagraf2= datamate.loc[(datamate['ap40_01'] == 1.0) ]\n",
    "plt.figure()\n",
    "\n",
    "sns.countplot(datagraf2['target'])\n",
    "plt.ylabel(\"Numero de Estudiantes\")\n",
    "plt.xlabel(\"Nota final Estudiantes (0=Aprobado, 1=Desaprobado)\")\n",
    "plt.title(\"Distribucion de desaprobados en alumnos que respondieron Negativamente en la afirmacion: Disfruto estudiando Matemática\")\n",
    "\n"
   ]
  },
  {
   "cell_type": "code",
   "execution_count": 166,
   "metadata": {},
   "outputs": [
    {
     "data": {
      "text/plain": [
       "Text(0.5, 1.0, 'Distribucion de desaprobados en estudiantes con indice socioeconomico Alto')"
      ]
     },
     "execution_count": 166,
     "metadata": {},
     "output_type": "execute_result"
    },
    {
     "data": {
      "image/png": "[encoded data removed]",
      "text/plain": [
       "<Figure size 432x288 with 1 Axes>"
      ]
     },
     "metadata": {
      "needs_background": "light"
     },
     "output_type": "display_data"
    }
   ],
   "source": [
    "datagraf2= datamate.loc[(datamate['isocioa'] == 3.0) ]\n",
    "plt.figure()\n",
    "\n",
    "sns.countplot(datagraf2['target'])\n",
    "plt.ylabel(\"Numero de Estudiantes\")\n",
    "plt.xlabel(\"Nota final Estudiantes (0=Aprobado, 1=Desaprobado)\")\n",
    "plt.title(\"Distribucion de desaprobados en estudiantes con indice socioeconomico Alto\")\n",
    "\n"
   ]
  },
  {
   "cell_type": "markdown",
   "metadata": {},
   "source": [
    "datagraf2= datamate.loc[(datamate['edadA_junio2019'] == 17.0) ]\n",
    "plt.figure()\n",
    "\n",
    "sns.countplot(datagraf2['target'])\n",
    "plt.ylabel(\"Numero de Estudiantes\")\n",
    "plt.xlabel(\"Nota final Estudiantes (0=Aprobado, 1=Desaprobado)\")\n",
    "plt.title(\"Distribucion de desaprobados en estudiantes con edad: 17 años\")"
   ]
  },
  {
   "cell_type": "code",
   "execution_count": 174,
   "metadata": {},
   "outputs": [
    {
     "data": {
      "text/plain": [
       "Text(0.5, 1.0, 'Distribucion de desaprobados en alumnos que respondieron  Positivamente\\nen la afirmacion: Si me lo propongo, puedo ser bueno en Matemática\\n')"
      ]
     },
     "execution_count": 174,
     "metadata": {},
     "output_type": "execute_result"
    },
    {
     "data": {
      "image/png": "[encoded data removed]",
      "text/plain": [
       "<Figure size 432x288 with 1 Axes>"
      ]
     },
     "metadata": {
      "needs_background": "light"
     },
     "output_type": "display_data"
    }
   ],
   "source": [
    "datagraf2= datamate.loc[(datamate['ap40_04'] == 4.0) ]\n",
    "sns.countplot(datagraf2['target'])\n",
    "plt.ylabel(\"Numero de Estudiantes\")\n",
    "plt.xlabel(\"Nota final Estudiantes (0=Aprobado, 1=Desaprobado)\")\n",
    "plt.title(\"Distribucion de desaprobados en alumnos que respondieron  Positivamente\\nen la afirmacion: Si me lo propongo, puedo ser bueno en Matemática\\n\")\n"
   ]
  },
  {
   "cell_type": "code",
   "execution_count": 176,
   "metadata": {},
   "outputs": [
    {
     "data": {
      "text/plain": [
       "Text(0.5, 1.0, 'Distribucion de desaprobados en alumnos que respondieron Positivamente a la pregunta:\\n ¿Vas a Seguir estudiando en educación universitaria cuando termines el secundario?\\n')"
      ]
     },
     "execution_count": 176,
     "metadata": {},
     "output_type": "execute_result"
    },
    {
     "data": {
      "image/png": "[encoded data removed]",
      "text/plain": [
       "<Figure size 432x288 with 1 Axes>"
      ]
     },
     "metadata": {
      "needs_background": "light"
     },
     "output_type": "display_data"
    }
   ],
   "source": [
    "datagraf2= datamate.loc[(datamate['ap34'] == 2.0) ]\n",
    "plt.figure()\n",
    "\n",
    "sns.countplot(datagraf2['target'])\n",
    "plt.ylabel(\"Numero de Estudiantes\")\n",
    "plt.xlabel(\"Nota final Estudiantes (0=Aprobado, 1=Desaprobado)\")\n",
    "plt.title(\"Distribucion de desaprobados en alumnos que respondieron Positivamente a la pregunta:\\n ¿Vas a Seguir estudiando en educación universitaria cuando termines el secundario?\\n\")\n"
   ]
  },
  {
   "cell_type": "markdown",
   "metadata": {},
   "source": [
    "Armo metrica KS para modelo ganador"
   ]
  },
  {
   "cell_type": "code",
   "execution_count": 46,
   "metadata": {},
   "outputs": [
    {
     "data": {
      "text/html": [
       "<div>\n",
       "<style scoped>\n",
       "    .dataframe tbody tr th:only-of-type {\n",
       "        vertical-align: middle;\n",
       "    }\n",
       "\n",
       "    .dataframe tbody tr th {\n",
       "        vertical-align: top;\n",
       "    }\n",
       "\n",
       "    .dataframe thead th {\n",
       "        text-align: right;\n",
       "    }\n",
       "</style>\n",
       "<table border=\"1\" class=\"dataframe\">\n",
       "  <thead>\n",
       "    <tr style=\"text-align: right;\">\n",
       "      <th></th>\n",
       "      <th>y_pred</th>\n",
       "      <th>y_test</th>\n",
       "    </tr>\n",
       "  </thead>\n",
       "  <tbody>\n",
       "    <tr>\n",
       "      <th>0</th>\n",
       "      <td>0</td>\n",
       "      <td>0</td>\n",
       "    </tr>\n",
       "    <tr>\n",
       "      <th>1</th>\n",
       "      <td>1</td>\n",
       "      <td>0</td>\n",
       "    </tr>\n",
       "    <tr>\n",
       "      <th>2</th>\n",
       "      <td>0</td>\n",
       "      <td>0</td>\n",
       "    </tr>\n",
       "    <tr>\n",
       "      <th>3</th>\n",
       "      <td>1</td>\n",
       "      <td>0</td>\n",
       "    </tr>\n",
       "    <tr>\n",
       "      <th>4</th>\n",
       "      <td>0</td>\n",
       "      <td>0</td>\n",
       "    </tr>\n",
       "    <tr>\n",
       "      <th>...</th>\n",
       "      <td>...</td>\n",
       "      <td>...</td>\n",
       "    </tr>\n",
       "    <tr>\n",
       "      <th>30750</th>\n",
       "      <td>1</td>\n",
       "      <td>1</td>\n",
       "    </tr>\n",
       "    <tr>\n",
       "      <th>30751</th>\n",
       "      <td>0</td>\n",
       "      <td>0</td>\n",
       "    </tr>\n",
       "    <tr>\n",
       "      <th>30752</th>\n",
       "      <td>1</td>\n",
       "      <td>0</td>\n",
       "    </tr>\n",
       "    <tr>\n",
       "      <th>30753</th>\n",
       "      <td>0</td>\n",
       "      <td>0</td>\n",
       "    </tr>\n",
       "    <tr>\n",
       "      <th>30754</th>\n",
       "      <td>0</td>\n",
       "      <td>0</td>\n",
       "    </tr>\n",
       "  </tbody>\n",
       "</table>\n",
       "<p>30755 rows × 2 columns</p>\n",
       "</div>"
      ],
      "text/plain": [
       "       y_pred  y_test\n",
       "0           0       0\n",
       "1           1       0\n",
       "2           0       0\n",
       "3           1       0\n",
       "4           0       0\n",
       "...       ...     ...\n",
       "30750       1       1\n",
       "30751       0       0\n",
       "30752       1       0\n",
       "30753       0       0\n",
       "30754       0       0\n",
       "\n",
       "[30755 rows x 2 columns]"
      ]
     },
     "execution_count": 46,
     "metadata": {},
     "output_type": "execute_result"
    }
   ],
   "source": [
    "testKS = pd.DataFrame(data=y_pred, columns=[\"y_pred\"])\n",
    "testKS.reset_index()\n",
    "testKS2 = y_test\n",
    "testKS2=testKS2.reset_index()\n",
    "testKS2 = testKS2.drop(['index'],axis=1)\n",
    "testKS2 = testKS2.rename(columns = {'mdesemp': 'y_test'}, inplace = False)\n",
    "result = testKS.merge(testKS2,left_index=True,right_index=True)\n",
    "result"
   ]
  },
  {
   "cell_type": "code",
   "execution_count": 58,
   "metadata": {},
   "outputs": [
    {
     "name": "stdout",
     "output_type": "stream",
     "text": [
      "GINI = 0.44611826025356893, KS = 0.44611826025356904\n"
     ]
    }
   ],
   "source": [
    "from sklearn.metrics import roc_curve, roc_auc_score, auc\n",
    "from scipy import stats\n",
    "import matplotlib.pyplot as plt\n",
    "# %matplotlib inline\n",
    "\n",
    "def plot_roc_curve(y, y_pred, gini, ks):\n",
    "    fpr, tpr, thresholds = roc_curve(y, y_pred)\n",
    "    roc_auc = auc(fpr, tpr)\n",
    "\n",
    "    fig = plt.figure()\n",
    "    plt.plot(fpr, tpr, 'b--', label='%s AUC = %0.4f, GINI = %0.2f, KS = %s' % ('Model: ', roc_auc, gini, ks))\n",
    "    plt.plot([0, 1], [0, 1], 'k--')\n",
    "    plt.xlim([0.0, 1.0])\n",
    "    plt.ylim([0.0, 1.0])\n",
    "    plt.xlabel('False Positive Rate')\n",
    "    plt.ylabel('True Positive Rate')\n",
    "    plt.legend(loc=0, fontsize='small')\n",
    "    plt.show()\n",
    "    \n",
    "gini = 2 * roc_auc_score(result['y_test'], result['y_pred']) - 1\n",
    "ks = stats.ks_2samp(result[result['y_test'] == 0]['y_pred'], result[result['y_test'] == 1]['y_pred']).statistic\n",
    "print('GINI = %s, KS = %s' % (gini, ks))"
   ]
  },
  {
   "cell_type": "markdown",
   "metadata": {},
   "source": [
    "Armo dataset para propuesta de implementación"
   ]
  },
  {
   "cell_type": "code",
   "execution_count": 52,
   "metadata": {},
   "outputs": [],
   "source": [
    "X_impl = X_test\n",
    "X_impl = X_impl.reset_index()\n",
    "X_impl = X_impl.drop(['index'],axis=1)"
   ]
  },
  {
   "cell_type": "code",
   "execution_count": 59,
   "metadata": {},
   "outputs": [],
   "source": [
    "df_impl = X_impl.merge(result,left_index=True,right_index=True)"
   ]
  },
  {
   "cell_type": "code",
   "execution_count": 60,
   "metadata": {},
   "outputs": [],
   "source": [
    "y_predProba = grid_search.best_estimator_.predict_proba(X_test)"
   ]
  },
  {
   "cell_type": "code",
   "execution_count": 61,
   "metadata": {},
   "outputs": [],
   "source": [
    "y_impl = pd.DataFrame(data=y_predProba, columns=[\"score_0\", \"score_1\"])"
   ]
  },
  {
   "cell_type": "code",
   "execution_count": 62,
   "metadata": {},
   "outputs": [],
   "source": [
    "df_impl = df_impl.merge(y_impl,left_index=True,right_index=True)"
   ]
  },
  {
   "cell_type": "code",
   "execution_count": 63,
   "metadata": {},
   "outputs": [],
   "source": [
    "df_impl['Rank'] = pd.qcut(df_impl['score_1'], 10,\n",
    "                               labels = False)"
   ]
  },
  {
   "cell_type": "markdown",
   "metadata": {},
   "source": [
    "Agrupo por Ranking de probabilidad y miro cantidad de alumnos ,y cantidad de desaprobados"
   ]
  },
  {
   "cell_type": "code",
   "execution_count": 64,
   "metadata": {},
   "outputs": [
    {
     "data": {
      "text/html": [
       "<div>\n",
       "<style scoped>\n",
       "    .dataframe tbody tr th:only-of-type {\n",
       "        vertical-align: middle;\n",
       "    }\n",
       "\n",
       "    .dataframe tbody tr th {\n",
       "        vertical-align: top;\n",
       "    }\n",
       "\n",
       "    .dataframe thead th {\n",
       "        text-align: right;\n",
       "    }\n",
       "</style>\n",
       "<table border=\"1\" class=\"dataframe\">\n",
       "  <thead>\n",
       "    <tr style=\"text-align: right;\">\n",
       "      <th></th>\n",
       "      <th>sum</th>\n",
       "      <th>count</th>\n",
       "    </tr>\n",
       "    <tr>\n",
       "      <th>Rank</th>\n",
       "      <th></th>\n",
       "      <th></th>\n",
       "    </tr>\n",
       "  </thead>\n",
       "  <tbody>\n",
       "    <tr>\n",
       "      <th>0</th>\n",
       "      <td>89</td>\n",
       "      <td>3076</td>\n",
       "    </tr>\n",
       "    <tr>\n",
       "      <th>1</th>\n",
       "      <td>214</td>\n",
       "      <td>3075</td>\n",
       "    </tr>\n",
       "    <tr>\n",
       "      <th>2</th>\n",
       "      <td>332</td>\n",
       "      <td>3076</td>\n",
       "    </tr>\n",
       "    <tr>\n",
       "      <th>3</th>\n",
       "      <td>551</td>\n",
       "      <td>3075</td>\n",
       "    </tr>\n",
       "    <tr>\n",
       "      <th>4</th>\n",
       "      <td>721</td>\n",
       "      <td>3076</td>\n",
       "    </tr>\n",
       "    <tr>\n",
       "      <th>5</th>\n",
       "      <td>972</td>\n",
       "      <td>3075</td>\n",
       "    </tr>\n",
       "    <tr>\n",
       "      <th>6</th>\n",
       "      <td>1201</td>\n",
       "      <td>3075</td>\n",
       "    </tr>\n",
       "    <tr>\n",
       "      <th>7</th>\n",
       "      <td>1483</td>\n",
       "      <td>3076</td>\n",
       "    </tr>\n",
       "    <tr>\n",
       "      <th>8</th>\n",
       "      <td>1840</td>\n",
       "      <td>3075</td>\n",
       "    </tr>\n",
       "    <tr>\n",
       "      <th>9</th>\n",
       "      <td>2230</td>\n",
       "      <td>3076</td>\n",
       "    </tr>\n",
       "  </tbody>\n",
       "</table>\n",
       "</div>"
      ],
      "text/plain": [
       "       sum  count\n",
       "Rank             \n",
       "0       89   3076\n",
       "1      214   3075\n",
       "2      332   3076\n",
       "3      551   3075\n",
       "4      721   3076\n",
       "5      972   3075\n",
       "6     1201   3075\n",
       "7     1483   3076\n",
       "8     1840   3075\n",
       "9     2230   3076"
      ]
     },
     "execution_count": 64,
     "metadata": {},
     "output_type": "execute_result"
    }
   ],
   "source": [
    "df_impl.groupby('Rank')['y_test'].agg(['sum','count'])"
   ]
  },
  {
   "cell_type": "markdown",
   "metadata": {},
   "source": [
    "Link a documentación y proyecto: https://github.com/pevioli/TFI"
   ]
  },
  {
   "cell_type": "markdown",
   "metadata": {},
   "source": [
    "Muchas gracias."
   ]
  },
  {
   "cell_type": "markdown",
   "metadata": {},
   "source": [
    "Pablo Ezequiel Violi"
   ]
  },
  {
   "cell_type": "code",
   "execution_count": null,
   "metadata": {},
   "outputs": [],
   "source": []
  }
 ],
 "metadata": {
  "kernelspec": {
   "display_name": "Python 3",
   "language": "python",
   "name": "python3"
  },
  "language_info": {
   "codemirror_mode": {
    "name": "ipython",
    "version": 3
   },
   "file_extension": ".py",
   "mimetype": "text/x-python",
   "name": "python",
   "nbconvert_exporter": "python",
   "pygments_lexer": "ipython3",
   "version": "3.7.9"
  }
 },
 "nbformat": 4,
 "nbformat_minor": 4
}
